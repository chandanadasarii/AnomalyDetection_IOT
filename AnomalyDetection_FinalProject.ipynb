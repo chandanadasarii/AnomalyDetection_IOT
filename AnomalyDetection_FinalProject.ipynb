{
  "nbformat": 4,
  "nbformat_minor": 0,
  "metadata": {
    "colab": {
      "name": "AnomalyDetection_FinalProject.ipynb",
      "version": "0.3.2",
      "provenance": [],
      "collapsed_sections": [],
      "toc_visible": true,
      "include_colab_link": true
    },
    "kernelspec": {
      "name": "python3",
      "display_name": "Python 3"
    },
    "accelerator": "TPU"
  },
  "cells": [
    {
      "cell_type": "markdown",
      "metadata": {
        "id": "view-in-github",
        "colab_type": "text"
      },
      "source": [
        "<a href=\"https://colab.research.google.com/github/chandanadasarii/AnomalyDetection_IOT/blob/master/AnomalyDetection_FinalProject.ipynb\" target=\"_parent\"><img src=\"https://colab.research.google.com/assets/colab-badge.svg\" alt=\"Open In Colab\"/></a>"
      ]
    },
    {
      "cell_type": "markdown",
      "metadata": {
        "id": "LHqsNklNUUtQ",
        "colab_type": "text"
      },
      "source": [
        "####Reading the files from GDrive"
      ]
    },
    {
      "cell_type": "code",
      "metadata": {
        "id": "88ruOgBJu292",
        "colab_type": "code",
        "outputId": "21d1533c-63c5-44a6-bd75-1c75a98dc76a",
        "colab": {
          "base_uri": "https://localhost:8080/",
          "height": 124
        }
      },
      "source": [
        "from google.colab import drive\n",
        "drive.mount('/content/drive')"
      ],
      "execution_count": 0,
      "outputs": [
        {
          "output_type": "stream",
          "text": [
            "Go to this URL in a browser: https://accounts.google.com/o/oauth2/auth?client_id=947318989803-6bn6qk8qdgf4n4g3pfee6491hc0brc4i.apps.googleusercontent.com&redirect_uri=urn%3Aietf%3Awg%3Aoauth%3A2.0%3Aoob&scope=email%20https%3A%2F%2Fwww.googleapis.com%2Fauth%2Fdocs.test%20https%3A%2F%2Fwww.googleapis.com%2Fauth%2Fdrive%20https%3A%2F%2Fwww.googleapis.com%2Fauth%2Fdrive.photos.readonly%20https%3A%2F%2Fwww.googleapis.com%2Fauth%2Fpeopleapi.readonly&response_type=code\n",
            "\n",
            "Enter your authorization code:\n",
            "··········\n",
            "Mounted at /content/drive\n"
          ],
          "name": "stdout"
        }
      ]
    },
    {
      "cell_type": "markdown",
      "metadata": {
        "id": "CRFn6a8BUfAR",
        "colab_type": "text"
      },
      "source": [
        "#### Importing the necessary libraries"
      ]
    },
    {
      "cell_type": "code",
      "metadata": {
        "id": "hDPSyN13u5JZ",
        "colab_type": "code",
        "outputId": "f2944640-0fc1-465d-de72-b68df5280580",
        "colab": {
          "base_uri": "https://localhost:8080/",
          "height": 55
        }
      },
      "source": [
        "import os\n",
        "import numpy as np\n",
        "import matplotlib.pyplot as plt\n",
        "from scipy.stats import norm\n",
        "from sklearn.neighbors import KernelDensity\n",
        "from scipy.stats import gaussian_kde\n",
        "from datetime import datetime\n",
        "import missingno as msno\n",
        "import pandas as pd\n",
        "from sklearn import linear_model\n",
        "from sklearn.model_selection import train_test_split\n",
        "from matplotlib import pyplot as plt\n",
        "import matplotlib\n",
        "import glob\n",
        "files= glob.glob(\"/content/drive/My Drive/AnomalyDetection/Sensordata2/*.csv\")\n",
        "print(files)"
      ],
      "execution_count": 0,
      "outputs": [
        {
          "output_type": "stream",
          "text": [
            "['/content/drive/My Drive/AnomalyDetection/Sensordata2/Insight-OpenIoT 1st Floor-Insight Museum Hall-CO2.csv', '/content/drive/My Drive/AnomalyDetection/Sensordata2/Insight-OpenIoT 1st Floor-Insight Museum Hall-Humidity.csv', '/content/drive/My Drive/AnomalyDetection/Sensordata2/Insight-OpenIoT 1st Floor-Insight Museum Hall-Noise.csv', '/content/drive/My Drive/AnomalyDetection/Sensordata2/Insight-OpenIoT 1st Floor-Insight Museum Hall-Temperature.csv', '/content/drive/My Drive/AnomalyDetection/Sensordata2/Insight-OpenIoT 1st Floor-Insight Museum Hall-Pressure.csv', '/content/drive/My Drive/AnomalyDetection/Sensordata2/Insight-OpenIoT 2nd Floor-Insight-OpenIoT Kitchen-Humidity.csv', '/content/drive/My Drive/AnomalyDetection/Sensordata2/Insight-OpenIoT 2nd Floor-Insight-OpenIoT Kitchen-CO2.csv', '/content/drive/My Drive/AnomalyDetection/Sensordata2/Insight-OpenIoT 1st Floor-Insight Outdoor-Temperature.csv', '/content/drive/My Drive/AnomalyDetection/Sensordata2/Insight-OpenIoT 1st Floor-Insight Outdoor-Humidity.csv', '/content/drive/My Drive/AnomalyDetection/Sensordata2/Insight-OpenIoT 2nd Floor-Insight-OpenIoT Kitchen-Noise.csv', '/content/drive/My Drive/AnomalyDetection/Sensordata2/Insight-OpenIoT 2nd Floor-Insight-OpenIoT Kitchen-Pressure.csv', '/content/drive/My Drive/AnomalyDetection/Sensordata2/Insight-OpenIoT 2nd Floor-Insight-OpenIoT Reception-Temperature.csv', '/content/drive/My Drive/AnomalyDetection/Sensordata2/Insight-OpenIoT 2nd Floor-Insight-OpenIoT Reception-Humidity.csv', '/content/drive/My Drive/AnomalyDetection/Sensordata2/Insight-OpenIoT 2nd Floor-Insight-OpenIoT Kitchen-Temperature.csv', '/content/drive/My Drive/AnomalyDetection/Sensordata2/Insight-OpenIoT Ground Floor-Insight Welcome Hall-Temperature.csv', '/content/drive/My Drive/AnomalyDetection/Sensordata2/Insight-OpenIoT Ground Floor-Internet of Things Sensors Lab-CO2.csv', '/content/drive/My Drive/AnomalyDetection/Sensordata2/Insight-OpenIoT Ground Floor-Internet of Things Sensors Lab-Pressure.csv', '/content/drive/My Drive/AnomalyDetection/Sensordata2/Insight-OpenIoT Ground Floor-Insight Welcome Hall-Humidity.csv', '/content/drive/My Drive/AnomalyDetection/Sensordata2/Insight-OpenIoT Ground Floor-Internet of Things Sensors Lab-Humidity.csv', '/content/drive/My Drive/AnomalyDetection/Sensordata2/Insight-OpenIoT Ground Floor-Internet of Things Sensors Lab-Noise.csv', '/content/drive/My Drive/AnomalyDetection/Sensordata2/Insight-OpenIoT Ground Floor-Internet of Things Sensors Lab-Temperature.csv', '/content/drive/My Drive/AnomalyDetection/Sensordata2/wifi_2ndfloor_kitchen.csv', '/content/drive/My Drive/AnomalyDetection/Sensordata2/wifi_1stfloor_museum.csv', '/content/drive/My Drive/AnomalyDetection/Sensordata2/wifi_groundfloor_lobby.csv']\n"
          ],
          "name": "stdout"
        }
      ]
    },
    {
      "cell_type": "code",
      "metadata": {
        "id": "-duBnr4OCsqX",
        "colab_type": "code",
        "outputId": "41bf3f0c-56dd-490d-d256-8e6dc94231d1",
        "colab": {
          "base_uri": "https://localhost:8080/",
          "height": 191
        }
      },
      "source": [
        "# def main():\n",
        "'''\n",
        "preprocessing the sensor data given in .csv format\n",
        "total sensors = 24\n",
        "Steps :\n",
        "1. Formatting the data to make it into standard form wrt to time.\n",
        "Therefore each entry can be identified with a single value of ddmmyytttt\n",
        "and saved the result into full_data.csv after processing the time\n",
        "'''\n",
        "print(\"INFO : STEP 1\")\n",
        "full_data = pd.DataFrame(columns=['time', 'dummy'])\n",
        "\n",
        "# files contains list of all files\n",
        "for file in files:\n",
        "    data = pd.read_csv(file)\n",
        "    sensor_dataframe = pd.DataFrame(data)\n",
        "    # print(sensor_dataframe)\n",
        "    # Creating different data frame with the name of the sensor file file[:-4] to remove the .csv from the column name\n",
        "    # each data frame has time column, and corresponding sensor column\n",
        "    sensor_dataframe.columns = ['time', file[:-4]]\n",
        "    # Converting the time column to datetime format\n",
        "    sensor_dataframe['time'] = pd.to_datetime(sensor_dataframe['time'])\n",
        "    #formatting the time\n",
        "    sensor_dataframe['time'] = sensor_dataframe.time.dt.strftime('%y%m%d%H%M')\n",
        "\n",
        "    # merging all the sensor data frames based on the time column\n",
        "    full_data = pd.merge(full_data, sensor_dataframe, on='time', how='outer')\n",
        "\n",
        "#dropping the dummy column\n",
        "full_data=full_data.drop(columns='dummy')\n",
        "print(\"INFO : all sensors data merged into single dataframe Successful...\")\n",
        "\n",
        "#######################################################################################\n",
        "\n",
        "'''\n",
        "Preprocessing 2:\n",
        "This file reads the full_data generated by preprocessing_data.py\n",
        "This file contains the code for Unifying the all variables data to standard interval of 15 min window.\n",
        "and saving it to the Data_grouping.csv\n",
        "'''\n",
        "\n",
        "print(\"INFO : STEP 2 \")\n",
        "\n",
        "def transform(time):\n",
        "    time = str(time)\n",
        "    if int(time[-2:]) < 15:\n",
        "        time = time[:-2] + '00'\n",
        "    elif int(time[-2:]) < 30:\n",
        "        time = time[:-2] + '15'\n",
        "    elif int(time[-2:]) < 45:\n",
        "        time = time[:-2] + '30'\n",
        "    else:\n",
        "        time = time[:-2] + '45'\n",
        "    return int(time)\n",
        "\n",
        "full_data['time'] = full_data['time'].apply(transform)\n",
        "# at any point of time i have only 1 value so mean doesnot effect the data\n",
        "FD_g = full_data.groupby(['time']).mean()\n",
        "print(\"INFO : All the sensors times rounded off to 15:30:45:00 min\")\n",
        "print(\"INFO : Final DataFrame Size after merging : \" , FD_g.shape)\n",
        "FD_g['time'] = FD_g.index\n",
        "# Resetting the index\n",
        "FD_g.reset_index(drop=True, inplace=True)\n",
        "FD_g['time'] = pd.to_datetime(FD_g['time'],format='%y%m%d%H%M')\n",
        "# datetime_try = datetime.strptime()\n",
        "print(\"INFO : Adding new columns : month, day, hour, minute\")\n",
        "FD_g['month'] = FD_g.time.dt.strftime('%m')\n",
        "FD_g['day'] = FD_g.time.dt.strftime('%d')\n",
        "FD_g['hour'] = FD_g.time.dt.strftime('%h')\n",
        "FD_g['minute'] = FD_g.time.dt.strftime('%M')\n",
        "FD_g['utime'] = FD_g.time.dt.strftime('%y%m%d%H%M')\n",
        "\n",
        "\n",
        "print(\"INFO : Final DataFrame Size after addition of new columns : \" , FD_g.shape)\n",
        "'''\n",
        "There are so many missing values present in the dataset because of the connection failure , power failure and for other reasons\n",
        "To successfully model the data and get meaningful insights. Handling the missing data plays a vital role as well.\n",
        "'''\n",
        "\n",
        "'''\n",
        "Need to create some efficient mechanism for handling the missing values\n",
        "Impute missing values think of an efficient way\n",
        "https://machinelearningmastery.com/handle-missing-data-python/\n",
        "'''\n",
        "print(\"INFO : removing the missing values\")    \n",
        "Data = FD_g.dropna(how='any')  \n",
        "print(\"INFO : after dropping na\", Data.shape)\n",
        "\n",
        "# This gives the counts of values\n",
        "for column in Data.columns:\n",
        "    if Data[column].isnull().sum()>0:\n",
        "        sensor_values = Data[column].value_counts(dropna=False)\n",
        "        s = pd.DataFrame(sensor_values)\n",
        "        # getting second highest value - first highest would be - NaN second\n",
        "        # highest - most common value; using this value to fill NaN doesnt effect much\n",
        "        tobe_filled_value = s.index.tolist()\n",
        "        # print(tobe_filled_value[1])\n",
        "        Data[column].fillna(value = tobe_filled_value[2],inplace=True)\n",
        "        # sensor_values = Data['Insight-OpenIoT 1st Floor-Insight Museum Hall-CO2'].value_counts(dropna=False)\n",
        "print('INFO : PREPROCESSING STEP 3  IS DONE')\n",
        "Data.reset_index(drop=True, inplace=True)\n",
        "\n",
        "\n",
        "\n",
        "# if __name__ == '__main__':\n",
        "#     print('Preprocessing Data')\n",
        "#     main()"
      ],
      "execution_count": 0,
      "outputs": [
        {
          "output_type": "stream",
          "text": [
            "INFO : STEP 1\n",
            "INFO : all sensors data merged into single dataframe Successful...\n",
            "INFO : STEP 2 \n",
            "INFO : All the sensors times rounded off to 15:30:45:00 min\n",
            "INFO : Final DataFrame Size after merging :  (9282, 24)\n",
            "INFO : Adding new columns : month, day, hour, minute\n",
            "INFO : Final DataFrame Size after addition of new columns :  (9282, 30)\n",
            "INFO : removing the missing values\n",
            "INFO : after dropping na (2652, 30)\n",
            "INFO : PREPROCESSING STEP 3  IS DONE\n"
          ],
          "name": "stdout"
        }
      ]
    },
    {
      "cell_type": "markdown",
      "metadata": {
        "id": "bPqU5Sz-V9gQ",
        "colab_type": "text"
      },
      "source": [
        "####Map the column names "
      ]
    },
    {
      "cell_type": "code",
      "metadata": {
        "id": "ldstyD9qV9GN",
        "colab_type": "code",
        "outputId": "4995eddc-b070-4d42-d270-9d80afa8d6d0",
        "colab": {
          "base_uri": "https://localhost:8080/",
          "height": 124
        }
      },
      "source": [
        "Data.rename(columns={'/content/drive/My Drive/AnomalyDetection/Sensordata2/Insight-OpenIoT 1st Floor-Insight Museum Hall-CO2':'ff_museum_c02',\n",
        "                     '/content/drive/My Drive/AnomalyDetection/Sensordata2/Insight-OpenIoT 1st Floor-Insight Museum Hall-Humidity': 'ff_museum_Humidity',\n",
        "                     '/content/drive/My Drive/AnomalyDetection/Sensordata2/Insight-OpenIoT 1st Floor-Insight Museum Hall-Noise': 'ff_museum_noise',\n",
        "       '/content/drive/My Drive/AnomalyDetection/Sensordata2/Insight-OpenIoT 1st Floor-Insight Museum Hall-Temperature' : 'ff_temparature',\n",
        "       '/content/drive/My Drive/AnomalyDetection/Sensordata2/Insight-OpenIoT 1st Floor-Insight Museum Hall-Pressure' : 'ff_pressure',\n",
        "       '/content/drive/My Drive/AnomalyDetection/Sensordata2/Insight-OpenIoT 2nd Floor-Insight-OpenIoT Kitchen-Humidity' : 'sf_humidity',\n",
        "       '/content/drive/My Drive/AnomalyDetection/Sensordata2/Insight-OpenIoT 2nd Floor-Insight-OpenIoT Kitchen-CO2' : 'sf_c02',\n",
        "       '/content/drive/My Drive/AnomalyDetection/Sensordata2/Insight-OpenIoT 1st Floor-Insight Outdoor-Temperature': 'ff_outdoor_temp',\n",
        "       '/content/drive/My Drive/AnomalyDetection/Sensordata2/Insight-OpenIoT 1st Floor-Insight Outdoor-Humidity': 'ff_outdoor_himidity',\n",
        "       '/content/drive/My Drive/AnomalyDetection/Sensordata2/Insight-OpenIoT 2nd Floor-Insight-OpenIoT Kitchen-Noise': 'sf_kitchen_noise',\n",
        "       '/content/drive/My Drive/AnomalyDetection/Sensordata2/Insight-OpenIoT 2nd Floor-Insight-OpenIoT Kitchen-Pressure' : 'sf_kitchen pressure',\n",
        "       '/content/drive/My Drive/AnomalyDetection/Sensordata2/Insight-OpenIoT 2nd Floor-Insight-OpenIoT Reception-Temperature' : 'sf_reception_temparature',\n",
        "       '/content/drive/My Drive/AnomalyDetection/Sensordata2/Insight-OpenIoT 2nd Floor-Insight-OpenIoT Reception-Humidity' : 'sf_reception_humidity',\n",
        "       '/content/drive/My Drive/AnomalyDetection/Sensordata2/Insight-OpenIoT 2nd Floor-Insight-OpenIoT Kitchen-Temperature' : 'sf_kitchen_temparature',\n",
        "       '/content/drive/My Drive/AnomalyDetection/Sensordata2/Insight-OpenIoT Ground Floor-Insight Welcome Hall-Temperature' : 'gf_hall_temprature',\n",
        "       '/content/drive/My Drive/AnomalyDetection/Sensordata2/Insight-OpenIoT Ground Floor-Internet of Things Sensors Lab-CO2': 'gf_lab_c02',\n",
        "       '/content/drive/My Drive/AnomalyDetection/Sensordata2/Insight-OpenIoT Ground Floor-Internet of Things Sensors Lab-Pressure':'gf_lab_pressure',\n",
        "       '/content/drive/My Drive/AnomalyDetection/Sensordata2/Insight-OpenIoT Ground Floor-Insight Welcome Hall-Humidity':'gf_hall_humidity',\n",
        "       '/content/drive/My Drive/AnomalyDetection/Sensordata2/Insight-OpenIoT Ground Floor-Internet of Things Sensors Lab-Humidity': 'gf_lab_humidity',\n",
        "       '/content/drive/My Drive/AnomalyDetection/Sensordata2/Insight-OpenIoT Ground Floor-Internet of Things Sensors Lab-Noise':'gf_lab_noise',\n",
        "       '/content/drive/My Drive/AnomalyDetection/Sensordata2/Insight-OpenIoT Ground Floor-Internet of Things Sensors Lab-Temperature':'gf_lab_temprature',\n",
        "       '/content/drive/My Drive/AnomalyDetection/Sensordata2/wifi_2ndfloor_kitchen':'sf_kitchen_wifi',\n",
        "       '/content/drive/My Drive/AnomalyDetection/Sensordata2/wifi_1stfloor_museum':'ff_museum_wifi',\n",
        "       '/content/drive/My Drive/AnomalyDetection/Sensordata2/wifi_groundfloor_lobby':'gf_lobby_wifi'\n",
        "                     }, \n",
        "                 inplace=True)"
      ],
      "execution_count": 0,
      "outputs": [
        {
          "output_type": "stream",
          "text": [
            "/usr/local/lib/python3.6/dist-packages/pandas/core/frame.py:4025: SettingWithCopyWarning: \n",
            "A value is trying to be set on a copy of a slice from a DataFrame\n",
            "\n",
            "See the caveats in the documentation: http://pandas.pydata.org/pandas-docs/stable/indexing.html#indexing-view-versus-copy\n",
            "  return super(DataFrame, self).rename(**kwargs)\n"
          ],
          "name": "stderr"
        }
      ]
    },
    {
      "cell_type": "code",
      "metadata": {
        "id": "Z5Z4zHfTbi_6",
        "colab_type": "code",
        "outputId": "25d56774-2b6b-4b39-86e4-72cf99fccf22",
        "colab": {
          "base_uri": "https://localhost:8080/",
          "height": 52
        }
      },
      "source": [
        "print(Data.shape)\n",
        "sensors_data =  Data.drop(['time','month','hour','minute','day'],axis=1)\n",
        "print(sensors_data.shape)\n"
      ],
      "execution_count": 0,
      "outputs": [
        {
          "output_type": "stream",
          "text": [
            "(2652, 30)\n",
            "(2652, 25)\n"
          ],
          "name": "stdout"
        }
      ]
    },
    {
      "cell_type": "code",
      "metadata": {
        "id": "tHgPd5_hBKPY",
        "colab_type": "code",
        "colab": {}
      },
      "source": [
        "\n",
        " \n",
        "\n",
        "\n"
      ],
      "execution_count": 0,
      "outputs": []
    },
    {
      "cell_type": "markdown",
      "metadata": {
        "id": "rAWAJT5YVBMD",
        "colab_type": "text"
      },
      "source": [
        "#### Error in predicting the each sensor model"
      ]
    },
    {
      "cell_type": "code",
      "metadata": {
        "id": "QEl1gOTfvDNH",
        "colab_type": "code",
        "colab": {}
      },
      "source": [
        "#Visualization purpose building a new dataframe for predicted values \n",
        "predicted_sensordf = pd.DataFrame()\n",
        "score_dict = {}\n",
        "time_x = sensors_data['utime']\n",
        "error_dist = dict()\n",
        "model_error = pd.DataFrame()\n",
        "\n",
        "for column in sensors_data.columns:\n",
        "  if column!='utime':\n",
        "#     print(column)\n",
        "#     # modelling one variable(response) in terms of other response_variable\n",
        "    y = sensors_data[column] \n",
        "    X = sensors_data.drop(column,axis=1)\n",
        "    lm = linear_model.LinearRegression()\n",
        "    model = lm.fit(X, y)\n",
        "    predictions = lm.predict(X)\n",
        "    predicted_sensordf[column] = predictions\n",
        "#     print(\"prediction : \" , predictions[0:5])\n",
        "#     print(\" actual : \" ,new_data[column][0:5])\n",
        "    score = model.score(X, y)\n",
        "    score_dict[column] = score\n",
        "    error = abs(y - predictions)\n",
        "    error_dist[column] = error\n",
        "    model_error[column] = error\n",
        "model_error['utime'] = sensors_data['utime']\n",
        "    \n",
        "#     print(error_dist[column])\n",
        "\n",
        "# #     data = [new_data['utime'], new_data[column], predictions, error]\n",
        "# #     df = pd.DataFrame(data, columns= ['Date','Actual','Predicted','error'])\n",
        "#     plt.plot(time_x,error,color = 'y')\n",
        "#     plt.xlabel('Time')\n",
        "#     plt.ylabel('error(actual-predicted)')\n",
        "#     plt.show()\n",
        "#     plt.savefig(column + '.png')\n",
        "#     print('success')\n",
        "# model_error['utime']= sensors_data['utime']\n",
        "# print(model_error.head)\n",
        "# print(new_data.head)\n",
        "# print(model_error.shape)"
      ],
      "execution_count": 0,
      "outputs": []
    },
    {
      "cell_type": "code",
      "metadata": {
        "id": "bevtMTYtEltk",
        "colab_type": "code",
        "outputId": "8b5c86a5-4e0b-4a9a-b72b-df3f45406493",
        "colab": {
          "base_uri": "https://localhost:8080/",
          "height": 52
        }
      },
      "source": [
        "print(sensors_data.shape)\n",
        "print(predicted_sensordf.shape)"
      ],
      "execution_count": 0,
      "outputs": [
        {
          "output_type": "stream",
          "text": [
            "(2652, 25)\n",
            "(2652, 24)\n"
          ],
          "name": "stdout"
        }
      ]
    },
    {
      "cell_type": "code",
      "metadata": {
        "id": "KFL4XgMGfFSh",
        "colab_type": "code",
        "outputId": "c5b5e305-a966-4319-b0c8-e404bcafd8be",
        "colab": {
          "base_uri": "https://localhost:8080/",
          "height": 1000
        }
      },
      "source": [
        "predicted_sensordf"
      ],
      "execution_count": 0,
      "outputs": [
        {
          "output_type": "execute_result",
          "data": {
            "text/html": [
              "<div>\n",
              "<style scoped>\n",
              "    .dataframe tbody tr th:only-of-type {\n",
              "        vertical-align: middle;\n",
              "    }\n",
              "\n",
              "    .dataframe tbody tr th {\n",
              "        vertical-align: top;\n",
              "    }\n",
              "\n",
              "    .dataframe thead th {\n",
              "        text-align: right;\n",
              "    }\n",
              "</style>\n",
              "<table border=\"1\" class=\"dataframe\">\n",
              "  <thead>\n",
              "    <tr style=\"text-align: right;\">\n",
              "      <th></th>\n",
              "      <th>ff_museum_c02</th>\n",
              "      <th>ff_museum_Humidity</th>\n",
              "      <th>ff_museum_noise</th>\n",
              "      <th>ff_temparature</th>\n",
              "      <th>ff_pressure</th>\n",
              "      <th>sf_humidity</th>\n",
              "      <th>sf_c02</th>\n",
              "      <th>ff_outdoor_temp</th>\n",
              "      <th>ff_outdoor_himidity</th>\n",
              "      <th>sf_kitchen_noise</th>\n",
              "      <th>sf_kitchen pressure</th>\n",
              "      <th>sf_reception_temparature</th>\n",
              "      <th>sf_reception_humidity</th>\n",
              "      <th>sf_kitchen_temparature</th>\n",
              "      <th>gf_hall_temprature</th>\n",
              "      <th>gf_lab_c02</th>\n",
              "      <th>gf_lab_pressure</th>\n",
              "      <th>gf_hall_humidity</th>\n",
              "      <th>gf_lab_humidity</th>\n",
              "      <th>gf_lab_noise</th>\n",
              "      <th>gf_lab_temprature</th>\n",
              "      <th>sf_kitchen_wifi</th>\n",
              "      <th>ff_museum_wifi</th>\n",
              "      <th>gf_lobby_wifi</th>\n",
              "    </tr>\n",
              "  </thead>\n",
              "  <tbody>\n",
              "    <tr>\n",
              "      <th>0</th>\n",
              "      <td>432.640955</td>\n",
              "      <td>38.649776</td>\n",
              "      <td>37.165243</td>\n",
              "      <td>18.169466</td>\n",
              "      <td>999.909782</td>\n",
              "      <td>41.860249</td>\n",
              "      <td>726.216445</td>\n",
              "      <td>0.927749</td>\n",
              "      <td>101.135283</td>\n",
              "      <td>44.547757</td>\n",
              "      <td>284.353804</td>\n",
              "      <td>18.548740</td>\n",
              "      <td>38.257164</td>\n",
              "      <td>18.571557</td>\n",
              "      <td>13.862804</td>\n",
              "      <td>464.225727</td>\n",
              "      <td>1002.114546</td>\n",
              "      <td>48.943690</td>\n",
              "      <td>39.527955</td>\n",
              "      <td>38.341505</td>\n",
              "      <td>19.534184</td>\n",
              "      <td>19.371929</td>\n",
              "      <td>26.502133</td>\n",
              "      <td>16.894287</td>\n",
              "    </tr>\n",
              "    <tr>\n",
              "      <th>1</th>\n",
              "      <td>391.833792</td>\n",
              "      <td>38.609652</td>\n",
              "      <td>38.991469</td>\n",
              "      <td>18.452635</td>\n",
              "      <td>1000.412217</td>\n",
              "      <td>38.759001</td>\n",
              "      <td>1206.660703</td>\n",
              "      <td>1.643041</td>\n",
              "      <td>100.694401</td>\n",
              "      <td>51.062716</td>\n",
              "      <td>460.128913</td>\n",
              "      <td>19.362441</td>\n",
              "      <td>38.856947</td>\n",
              "      <td>19.229673</td>\n",
              "      <td>14.233996</td>\n",
              "      <td>473.329483</td>\n",
              "      <td>1002.229590</td>\n",
              "      <td>50.395865</td>\n",
              "      <td>40.059863</td>\n",
              "      <td>39.368498</td>\n",
              "      <td>19.672055</td>\n",
              "      <td>42.750440</td>\n",
              "      <td>54.320862</td>\n",
              "      <td>45.904957</td>\n",
              "    </tr>\n",
              "    <tr>\n",
              "      <th>2</th>\n",
              "      <td>431.916379</td>\n",
              "      <td>38.976779</td>\n",
              "      <td>38.564689</td>\n",
              "      <td>18.356836</td>\n",
              "      <td>1000.402787</td>\n",
              "      <td>41.388315</td>\n",
              "      <td>1236.740164</td>\n",
              "      <td>1.756559</td>\n",
              "      <td>94.611935</td>\n",
              "      <td>53.117442</td>\n",
              "      <td>266.052272</td>\n",
              "      <td>19.401923</td>\n",
              "      <td>39.404188</td>\n",
              "      <td>20.622480</td>\n",
              "      <td>14.536132</td>\n",
              "      <td>535.721791</td>\n",
              "      <td>1002.627711</td>\n",
              "      <td>50.756333</td>\n",
              "      <td>39.771781</td>\n",
              "      <td>38.677577</td>\n",
              "      <td>19.706022</td>\n",
              "      <td>35.913240</td>\n",
              "      <td>46.017452</td>\n",
              "      <td>47.633993</td>\n",
              "    </tr>\n",
              "    <tr>\n",
              "      <th>3</th>\n",
              "      <td>404.142535</td>\n",
              "      <td>38.307838</td>\n",
              "      <td>39.376855</td>\n",
              "      <td>18.445325</td>\n",
              "      <td>1000.023485</td>\n",
              "      <td>40.488927</td>\n",
              "      <td>1247.073413</td>\n",
              "      <td>1.566030</td>\n",
              "      <td>89.439404</td>\n",
              "      <td>56.033660</td>\n",
              "      <td>129.900176</td>\n",
              "      <td>20.022399</td>\n",
              "      <td>38.742731</td>\n",
              "      <td>20.389921</td>\n",
              "      <td>14.541915</td>\n",
              "      <td>693.999575</td>\n",
              "      <td>1002.877499</td>\n",
              "      <td>50.174611</td>\n",
              "      <td>39.108035</td>\n",
              "      <td>38.840545</td>\n",
              "      <td>19.685709</td>\n",
              "      <td>34.629289</td>\n",
              "      <td>47.227962</td>\n",
              "      <td>41.948878</td>\n",
              "    </tr>\n",
              "    <tr>\n",
              "      <th>4</th>\n",
              "      <td>408.485712</td>\n",
              "      <td>38.373140</td>\n",
              "      <td>39.970682</td>\n",
              "      <td>18.551305</td>\n",
              "      <td>1000.545304</td>\n",
              "      <td>40.611275</td>\n",
              "      <td>1397.869825</td>\n",
              "      <td>4.443071</td>\n",
              "      <td>88.105723</td>\n",
              "      <td>54.157478</td>\n",
              "      <td>196.011244</td>\n",
              "      <td>19.927525</td>\n",
              "      <td>38.730129</td>\n",
              "      <td>20.956462</td>\n",
              "      <td>15.002325</td>\n",
              "      <td>709.865725</td>\n",
              "      <td>1002.772081</td>\n",
              "      <td>50.851798</td>\n",
              "      <td>38.558885</td>\n",
              "      <td>38.952214</td>\n",
              "      <td>20.794754</td>\n",
              "      <td>48.045760</td>\n",
              "      <td>42.970120</td>\n",
              "      <td>33.704638</td>\n",
              "    </tr>\n",
              "    <tr>\n",
              "      <th>5</th>\n",
              "      <td>450.096666</td>\n",
              "      <td>39.253481</td>\n",
              "      <td>38.672007</td>\n",
              "      <td>18.577893</td>\n",
              "      <td>1000.441225</td>\n",
              "      <td>40.733366</td>\n",
              "      <td>1159.191571</td>\n",
              "      <td>5.845227</td>\n",
              "      <td>89.386482</td>\n",
              "      <td>53.716564</td>\n",
              "      <td>158.302775</td>\n",
              "      <td>20.005422</td>\n",
              "      <td>39.225219</td>\n",
              "      <td>21.795556</td>\n",
              "      <td>14.931416</td>\n",
              "      <td>763.203739</td>\n",
              "      <td>1002.789492</td>\n",
              "      <td>50.053900</td>\n",
              "      <td>37.583731</td>\n",
              "      <td>38.747525</td>\n",
              "      <td>21.807909</td>\n",
              "      <td>31.136659</td>\n",
              "      <td>40.301097</td>\n",
              "      <td>46.474665</td>\n",
              "    </tr>\n",
              "    <tr>\n",
              "      <th>6</th>\n",
              "      <td>476.182752</td>\n",
              "      <td>38.479971</td>\n",
              "      <td>38.908203</td>\n",
              "      <td>18.579886</td>\n",
              "      <td>1000.595762</td>\n",
              "      <td>40.103988</td>\n",
              "      <td>1100.850796</td>\n",
              "      <td>6.358709</td>\n",
              "      <td>86.488071</td>\n",
              "      <td>50.489632</td>\n",
              "      <td>285.219333</td>\n",
              "      <td>20.022693</td>\n",
              "      <td>38.189469</td>\n",
              "      <td>21.525757</td>\n",
              "      <td>15.227384</td>\n",
              "      <td>725.592797</td>\n",
              "      <td>1002.941424</td>\n",
              "      <td>49.891256</td>\n",
              "      <td>36.040623</td>\n",
              "      <td>39.654257</td>\n",
              "      <td>22.199058</td>\n",
              "      <td>33.598881</td>\n",
              "      <td>41.557716</td>\n",
              "      <td>48.358492</td>\n",
              "    </tr>\n",
              "    <tr>\n",
              "      <th>7</th>\n",
              "      <td>460.114660</td>\n",
              "      <td>38.344119</td>\n",
              "      <td>40.052608</td>\n",
              "      <td>18.785445</td>\n",
              "      <td>1000.758374</td>\n",
              "      <td>40.069064</td>\n",
              "      <td>1350.300991</td>\n",
              "      <td>6.508406</td>\n",
              "      <td>86.090638</td>\n",
              "      <td>56.574592</td>\n",
              "      <td>321.537078</td>\n",
              "      <td>20.458618</td>\n",
              "      <td>37.650417</td>\n",
              "      <td>21.463908</td>\n",
              "      <td>15.297128</td>\n",
              "      <td>787.076551</td>\n",
              "      <td>1003.084119</td>\n",
              "      <td>49.831948</td>\n",
              "      <td>35.905824</td>\n",
              "      <td>40.953868</td>\n",
              "      <td>22.241450</td>\n",
              "      <td>43.471509</td>\n",
              "      <td>58.430658</td>\n",
              "      <td>68.608361</td>\n",
              "    </tr>\n",
              "    <tr>\n",
              "      <th>8</th>\n",
              "      <td>488.787067</td>\n",
              "      <td>38.567642</td>\n",
              "      <td>39.847591</td>\n",
              "      <td>18.601595</td>\n",
              "      <td>1000.542682</td>\n",
              "      <td>40.402082</td>\n",
              "      <td>1278.770441</td>\n",
              "      <td>5.868083</td>\n",
              "      <td>84.254778</td>\n",
              "      <td>54.812893</td>\n",
              "      <td>220.365200</td>\n",
              "      <td>20.506344</td>\n",
              "      <td>37.500704</td>\n",
              "      <td>22.287210</td>\n",
              "      <td>15.431840</td>\n",
              "      <td>811.073620</td>\n",
              "      <td>1003.101413</td>\n",
              "      <td>50.371603</td>\n",
              "      <td>35.701957</td>\n",
              "      <td>40.659527</td>\n",
              "      <td>22.397772</td>\n",
              "      <td>40.734965</td>\n",
              "      <td>48.177954</td>\n",
              "      <td>48.133226</td>\n",
              "    </tr>\n",
              "    <tr>\n",
              "      <th>9</th>\n",
              "      <td>501.140062</td>\n",
              "      <td>38.225107</td>\n",
              "      <td>39.230616</td>\n",
              "      <td>18.549354</td>\n",
              "      <td>1000.828873</td>\n",
              "      <td>40.574531</td>\n",
              "      <td>1392.476453</td>\n",
              "      <td>5.758222</td>\n",
              "      <td>86.746635</td>\n",
              "      <td>54.974338</td>\n",
              "      <td>238.732899</td>\n",
              "      <td>20.721101</td>\n",
              "      <td>37.522369</td>\n",
              "      <td>22.818984</td>\n",
              "      <td>15.408148</td>\n",
              "      <td>818.928440</td>\n",
              "      <td>1003.089494</td>\n",
              "      <td>49.395043</td>\n",
              "      <td>35.767904</td>\n",
              "      <td>40.015554</td>\n",
              "      <td>22.482243</td>\n",
              "      <td>35.426947</td>\n",
              "      <td>38.339343</td>\n",
              "      <td>45.837580</td>\n",
              "    </tr>\n",
              "    <tr>\n",
              "      <th>10</th>\n",
              "      <td>542.550996</td>\n",
              "      <td>38.081761</td>\n",
              "      <td>39.257005</td>\n",
              "      <td>18.415041</td>\n",
              "      <td>1000.722704</td>\n",
              "      <td>41.739266</td>\n",
              "      <td>1401.784171</td>\n",
              "      <td>5.143236</td>\n",
              "      <td>84.129812</td>\n",
              "      <td>56.330650</td>\n",
              "      <td>97.920316</td>\n",
              "      <td>20.548220</td>\n",
              "      <td>36.897269</td>\n",
              "      <td>23.344555</td>\n",
              "      <td>15.710806</td>\n",
              "      <td>945.199682</td>\n",
              "      <td>1003.199324</td>\n",
              "      <td>49.004951</td>\n",
              "      <td>35.738816</td>\n",
              "      <td>40.375709</td>\n",
              "      <td>22.692185</td>\n",
              "      <td>36.266234</td>\n",
              "      <td>41.388825</td>\n",
              "      <td>49.845702</td>\n",
              "    </tr>\n",
              "    <tr>\n",
              "      <th>11</th>\n",
              "      <td>555.205184</td>\n",
              "      <td>37.750530</td>\n",
              "      <td>39.773257</td>\n",
              "      <td>18.459035</td>\n",
              "      <td>1000.655388</td>\n",
              "      <td>41.397550</td>\n",
              "      <td>1470.873385</td>\n",
              "      <td>5.634027</td>\n",
              "      <td>86.174127</td>\n",
              "      <td>57.898854</td>\n",
              "      <td>230.320097</td>\n",
              "      <td>20.575938</td>\n",
              "      <td>36.694677</td>\n",
              "      <td>23.121881</td>\n",
              "      <td>15.954960</td>\n",
              "      <td>877.893997</td>\n",
              "      <td>1003.284087</td>\n",
              "      <td>50.411963</td>\n",
              "      <td>35.947430</td>\n",
              "      <td>40.975722</td>\n",
              "      <td>22.853731</td>\n",
              "      <td>45.390482</td>\n",
              "      <td>68.903581</td>\n",
              "      <td>67.724960</td>\n",
              "    </tr>\n",
              "    <tr>\n",
              "      <th>12</th>\n",
              "      <td>526.280741</td>\n",
              "      <td>38.347988</td>\n",
              "      <td>40.252800</td>\n",
              "      <td>18.493107</td>\n",
              "      <td>1000.822771</td>\n",
              "      <td>42.253528</td>\n",
              "      <td>1578.736051</td>\n",
              "      <td>5.384784</td>\n",
              "      <td>86.133886</td>\n",
              "      <td>60.868528</td>\n",
              "      <td>114.989912</td>\n",
              "      <td>20.670381</td>\n",
              "      <td>36.794627</td>\n",
              "      <td>23.197786</td>\n",
              "      <td>15.817489</td>\n",
              "      <td>1056.004714</td>\n",
              "      <td>1003.316387</td>\n",
              "      <td>49.679286</td>\n",
              "      <td>35.880501</td>\n",
              "      <td>41.087471</td>\n",
              "      <td>22.905309</td>\n",
              "      <td>50.105667</td>\n",
              "      <td>66.532519</td>\n",
              "      <td>75.574178</td>\n",
              "    </tr>\n",
              "    <tr>\n",
              "      <th>13</th>\n",
              "      <td>534.121932</td>\n",
              "      <td>37.878231</td>\n",
              "      <td>40.279280</td>\n",
              "      <td>18.455394</td>\n",
              "      <td>1000.561439</td>\n",
              "      <td>43.591470</td>\n",
              "      <td>1807.310984</td>\n",
              "      <td>5.132282</td>\n",
              "      <td>86.240007</td>\n",
              "      <td>64.127791</td>\n",
              "      <td>178.821789</td>\n",
              "      <td>21.131997</td>\n",
              "      <td>38.003792</td>\n",
              "      <td>22.493798</td>\n",
              "      <td>16.188358</td>\n",
              "      <td>1096.491300</td>\n",
              "      <td>1003.265188</td>\n",
              "      <td>49.883585</td>\n",
              "      <td>35.783847</td>\n",
              "      <td>40.787358</td>\n",
              "      <td>23.038663</td>\n",
              "      <td>49.511876</td>\n",
              "      <td>64.973774</td>\n",
              "      <td>69.211876</td>\n",
              "    </tr>\n",
              "    <tr>\n",
              "      <th>14</th>\n",
              "      <td>556.975676</td>\n",
              "      <td>37.110195</td>\n",
              "      <td>40.608609</td>\n",
              "      <td>18.230774</td>\n",
              "      <td>1000.744824</td>\n",
              "      <td>46.072729</td>\n",
              "      <td>1923.443813</td>\n",
              "      <td>3.897178</td>\n",
              "      <td>83.848226</td>\n",
              "      <td>65.051838</td>\n",
              "      <td>193.042697</td>\n",
              "      <td>20.726148</td>\n",
              "      <td>37.284020</td>\n",
              "      <td>22.623901</td>\n",
              "      <td>16.721699</td>\n",
              "      <td>1157.325325</td>\n",
              "      <td>1003.582191</td>\n",
              "      <td>50.568006</td>\n",
              "      <td>35.026488</td>\n",
              "      <td>40.360880</td>\n",
              "      <td>22.682744</td>\n",
              "      <td>61.117525</td>\n",
              "      <td>76.591953</td>\n",
              "      <td>68.641396</td>\n",
              "    </tr>\n",
              "    <tr>\n",
              "      <th>15</th>\n",
              "      <td>517.048420</td>\n",
              "      <td>37.874307</td>\n",
              "      <td>40.125808</td>\n",
              "      <td>18.333563</td>\n",
              "      <td>1000.983311</td>\n",
              "      <td>48.531055</td>\n",
              "      <td>1910.660120</td>\n",
              "      <td>4.635793</td>\n",
              "      <td>86.399449</td>\n",
              "      <td>64.947821</td>\n",
              "      <td>224.430688</td>\n",
              "      <td>20.964600</td>\n",
              "      <td>37.791533</td>\n",
              "      <td>22.004943</td>\n",
              "      <td>16.426783</td>\n",
              "      <td>1168.198361</td>\n",
              "      <td>1003.530926</td>\n",
              "      <td>50.321887</td>\n",
              "      <td>34.807353</td>\n",
              "      <td>40.588333</td>\n",
              "      <td>22.883185</td>\n",
              "      <td>53.135528</td>\n",
              "      <td>71.625675</td>\n",
              "      <td>81.262640</td>\n",
              "    </tr>\n",
              "    <tr>\n",
              "      <th>16</th>\n",
              "      <td>524.447509</td>\n",
              "      <td>37.812092</td>\n",
              "      <td>40.513948</td>\n",
              "      <td>18.336890</td>\n",
              "      <td>1001.129019</td>\n",
              "      <td>49.045267</td>\n",
              "      <td>2083.403788</td>\n",
              "      <td>4.968396</td>\n",
              "      <td>87.659311</td>\n",
              "      <td>64.973433</td>\n",
              "      <td>224.436452</td>\n",
              "      <td>20.973140</td>\n",
              "      <td>38.970111</td>\n",
              "      <td>21.339081</td>\n",
              "      <td>16.733440</td>\n",
              "      <td>1197.585155</td>\n",
              "      <td>1003.680788</td>\n",
              "      <td>50.762628</td>\n",
              "      <td>35.518674</td>\n",
              "      <td>40.006663</td>\n",
              "      <td>23.139347</td>\n",
              "      <td>59.616707</td>\n",
              "      <td>66.914432</td>\n",
              "      <td>63.896192</td>\n",
              "    </tr>\n",
              "    <tr>\n",
              "      <th>17</th>\n",
              "      <td>544.492138</td>\n",
              "      <td>37.842492</td>\n",
              "      <td>40.289379</td>\n",
              "      <td>18.277102</td>\n",
              "      <td>1001.125427</td>\n",
              "      <td>48.761296</td>\n",
              "      <td>2134.243320</td>\n",
              "      <td>5.154537</td>\n",
              "      <td>87.371658</td>\n",
              "      <td>65.804644</td>\n",
              "      <td>180.447270</td>\n",
              "      <td>21.320039</td>\n",
              "      <td>39.357554</td>\n",
              "      <td>21.660505</td>\n",
              "      <td>16.797914</td>\n",
              "      <td>1231.983351</td>\n",
              "      <td>1003.569166</td>\n",
              "      <td>50.258516</td>\n",
              "      <td>35.852908</td>\n",
              "      <td>39.827802</td>\n",
              "      <td>23.396940</td>\n",
              "      <td>53.687397</td>\n",
              "      <td>61.010403</td>\n",
              "      <td>55.552178</td>\n",
              "    </tr>\n",
              "    <tr>\n",
              "      <th>18</th>\n",
              "      <td>571.711932</td>\n",
              "      <td>39.030714</td>\n",
              "      <td>38.537204</td>\n",
              "      <td>18.383920</td>\n",
              "      <td>1001.376637</td>\n",
              "      <td>48.662304</td>\n",
              "      <td>1675.699662</td>\n",
              "      <td>6.829666</td>\n",
              "      <td>87.596499</td>\n",
              "      <td>59.744126</td>\n",
              "      <td>50.802558</td>\n",
              "      <td>20.729336</td>\n",
              "      <td>38.823755</td>\n",
              "      <td>21.962537</td>\n",
              "      <td>16.609104</td>\n",
              "      <td>1174.421623</td>\n",
              "      <td>1003.841795</td>\n",
              "      <td>48.658526</td>\n",
              "      <td>36.465131</td>\n",
              "      <td>39.815210</td>\n",
              "      <td>23.778643</td>\n",
              "      <td>31.073405</td>\n",
              "      <td>46.909353</td>\n",
              "      <td>59.299442</td>\n",
              "    </tr>\n",
              "    <tr>\n",
              "      <th>19</th>\n",
              "      <td>503.997048</td>\n",
              "      <td>39.798410</td>\n",
              "      <td>39.225335</td>\n",
              "      <td>18.933500</td>\n",
              "      <td>1001.605949</td>\n",
              "      <td>48.042463</td>\n",
              "      <td>1468.662486</td>\n",
              "      <td>5.891762</td>\n",
              "      <td>86.380238</td>\n",
              "      <td>54.052548</td>\n",
              "      <td>137.554132</td>\n",
              "      <td>20.198461</td>\n",
              "      <td>37.716009</td>\n",
              "      <td>21.252058</td>\n",
              "      <td>16.905995</td>\n",
              "      <td>1246.769367</td>\n",
              "      <td>1003.821402</td>\n",
              "      <td>49.426094</td>\n",
              "      <td>36.050244</td>\n",
              "      <td>39.865053</td>\n",
              "      <td>23.144691</td>\n",
              "      <td>34.656760</td>\n",
              "      <td>52.609656</td>\n",
              "      <td>47.555659</td>\n",
              "    </tr>\n",
              "    <tr>\n",
              "      <th>20</th>\n",
              "      <td>482.377773</td>\n",
              "      <td>39.206579</td>\n",
              "      <td>39.642645</td>\n",
              "      <td>18.922073</td>\n",
              "      <td>1001.715826</td>\n",
              "      <td>45.019360</td>\n",
              "      <td>1928.975214</td>\n",
              "      <td>5.873696</td>\n",
              "      <td>89.024735</td>\n",
              "      <td>60.982366</td>\n",
              "      <td>250.422843</td>\n",
              "      <td>21.581730</td>\n",
              "      <td>39.549990</td>\n",
              "      <td>21.306717</td>\n",
              "      <td>16.605495</td>\n",
              "      <td>1244.924216</td>\n",
              "      <td>1003.778798</td>\n",
              "      <td>48.425974</td>\n",
              "      <td>36.709101</td>\n",
              "      <td>40.415771</td>\n",
              "      <td>23.405026</td>\n",
              "      <td>35.025918</td>\n",
              "      <td>41.191145</td>\n",
              "      <td>45.345637</td>\n",
              "    </tr>\n",
              "    <tr>\n",
              "      <th>21</th>\n",
              "      <td>507.448339</td>\n",
              "      <td>38.569375</td>\n",
              "      <td>38.906616</td>\n",
              "      <td>18.711540</td>\n",
              "      <td>1001.848923</td>\n",
              "      <td>43.330462</td>\n",
              "      <td>1901.284211</td>\n",
              "      <td>5.098020</td>\n",
              "      <td>86.971587</td>\n",
              "      <td>59.399432</td>\n",
              "      <td>262.890960</td>\n",
              "      <td>21.584626</td>\n",
              "      <td>39.205611</td>\n",
              "      <td>22.143930</td>\n",
              "      <td>16.813954</td>\n",
              "      <td>1127.385052</td>\n",
              "      <td>1004.053993</td>\n",
              "      <td>48.047308</td>\n",
              "      <td>36.029898</td>\n",
              "      <td>39.765158</td>\n",
              "      <td>23.490142</td>\n",
              "      <td>31.140368</td>\n",
              "      <td>37.018728</td>\n",
              "      <td>35.213699</td>\n",
              "    </tr>\n",
              "    <tr>\n",
              "      <th>22</th>\n",
              "      <td>500.838092</td>\n",
              "      <td>38.911339</td>\n",
              "      <td>39.357472</td>\n",
              "      <td>18.803523</td>\n",
              "      <td>1002.045444</td>\n",
              "      <td>43.289231</td>\n",
              "      <td>1948.302953</td>\n",
              "      <td>5.428796</td>\n",
              "      <td>86.481644</td>\n",
              "      <td>61.559952</td>\n",
              "      <td>210.817197</td>\n",
              "      <td>21.673798</td>\n",
              "      <td>39.145693</td>\n",
              "      <td>22.433611</td>\n",
              "      <td>16.675232</td>\n",
              "      <td>1204.712802</td>\n",
              "      <td>1004.157558</td>\n",
              "      <td>47.564767</td>\n",
              "      <td>36.067385</td>\n",
              "      <td>40.141509</td>\n",
              "      <td>23.540488</td>\n",
              "      <td>35.069981</td>\n",
              "      <td>38.325229</td>\n",
              "      <td>45.280586</td>\n",
              "    </tr>\n",
              "    <tr>\n",
              "      <th>23</th>\n",
              "      <td>534.342172</td>\n",
              "      <td>39.121872</td>\n",
              "      <td>39.940600</td>\n",
              "      <td>18.813208</td>\n",
              "      <td>1002.039439</td>\n",
              "      <td>43.248070</td>\n",
              "      <td>1860.119923</td>\n",
              "      <td>5.380161</td>\n",
              "      <td>85.542022</td>\n",
              "      <td>61.020967</td>\n",
              "      <td>93.971798</td>\n",
              "      <td>21.534464</td>\n",
              "      <td>38.502003</td>\n",
              "      <td>22.889281</td>\n",
              "      <td>16.636222</td>\n",
              "      <td>1277.094075</td>\n",
              "      <td>1004.262977</td>\n",
              "      <td>47.691981</td>\n",
              "      <td>36.128325</td>\n",
              "      <td>40.289593</td>\n",
              "      <td>23.587315</td>\n",
              "      <td>39.344686</td>\n",
              "      <td>41.136365</td>\n",
              "      <td>45.765077</td>\n",
              "    </tr>\n",
              "    <tr>\n",
              "      <th>24</th>\n",
              "      <td>535.453480</td>\n",
              "      <td>38.584596</td>\n",
              "      <td>39.533354</td>\n",
              "      <td>18.787731</td>\n",
              "      <td>1002.489536</td>\n",
              "      <td>42.153515</td>\n",
              "      <td>1924.468982</td>\n",
              "      <td>5.788023</td>\n",
              "      <td>87.309739</td>\n",
              "      <td>58.065217</td>\n",
              "      <td>277.691371</td>\n",
              "      <td>21.576583</td>\n",
              "      <td>38.529611</td>\n",
              "      <td>22.941397</td>\n",
              "      <td>16.685505</td>\n",
              "      <td>1095.770741</td>\n",
              "      <td>1004.311889</td>\n",
              "      <td>47.895815</td>\n",
              "      <td>36.532703</td>\n",
              "      <td>40.501757</td>\n",
              "      <td>23.623235</td>\n",
              "      <td>39.649839</td>\n",
              "      <td>39.515231</td>\n",
              "      <td>43.585648</td>\n",
              "    </tr>\n",
              "    <tr>\n",
              "      <th>25</th>\n",
              "      <td>502.906744</td>\n",
              "      <td>39.191486</td>\n",
              "      <td>39.306965</td>\n",
              "      <td>18.980063</td>\n",
              "      <td>1002.593818</td>\n",
              "      <td>42.014944</td>\n",
              "      <td>1870.870488</td>\n",
              "      <td>5.740018</td>\n",
              "      <td>87.013969</td>\n",
              "      <td>58.122497</td>\n",
              "      <td>303.678863</td>\n",
              "      <td>21.733259</td>\n",
              "      <td>38.893748</td>\n",
              "      <td>22.933555</td>\n",
              "      <td>16.512735</td>\n",
              "      <td>1154.650118</td>\n",
              "      <td>1004.302296</td>\n",
              "      <td>47.197881</td>\n",
              "      <td>35.881512</td>\n",
              "      <td>40.298788</td>\n",
              "      <td>23.518758</td>\n",
              "      <td>32.361544</td>\n",
              "      <td>33.419943</td>\n",
              "      <td>44.965130</td>\n",
              "    </tr>\n",
              "    <tr>\n",
              "      <th>26</th>\n",
              "      <td>486.779547</td>\n",
              "      <td>39.048105</td>\n",
              "      <td>39.658779</td>\n",
              "      <td>18.974990</td>\n",
              "      <td>1002.711006</td>\n",
              "      <td>41.658160</td>\n",
              "      <td>1940.516360</td>\n",
              "      <td>4.751172</td>\n",
              "      <td>85.353713</td>\n",
              "      <td>58.793993</td>\n",
              "      <td>267.909467</td>\n",
              "      <td>21.666865</td>\n",
              "      <td>38.707034</td>\n",
              "      <td>23.000095</td>\n",
              "      <td>16.835087</td>\n",
              "      <td>1201.029384</td>\n",
              "      <td>1004.795110</td>\n",
              "      <td>47.675617</td>\n",
              "      <td>35.693214</td>\n",
              "      <td>39.871636</td>\n",
              "      <td>23.312290</td>\n",
              "      <td>38.688271</td>\n",
              "      <td>39.688074</td>\n",
              "      <td>39.040759</td>\n",
              "    </tr>\n",
              "    <tr>\n",
              "      <th>27</th>\n",
              "      <td>495.278840</td>\n",
              "      <td>38.661326</td>\n",
              "      <td>39.735893</td>\n",
              "      <td>18.930724</td>\n",
              "      <td>1002.868293</td>\n",
              "      <td>40.708013</td>\n",
              "      <td>1901.849160</td>\n",
              "      <td>4.805913</td>\n",
              "      <td>86.670565</td>\n",
              "      <td>56.694948</td>\n",
              "      <td>338.938989</td>\n",
              "      <td>21.637571</td>\n",
              "      <td>38.635031</td>\n",
              "      <td>22.883455</td>\n",
              "      <td>16.804017</td>\n",
              "      <td>1105.276751</td>\n",
              "      <td>1004.740501</td>\n",
              "      <td>47.865861</td>\n",
              "      <td>36.341098</td>\n",
              "      <td>39.612389</td>\n",
              "      <td>23.203828</td>\n",
              "      <td>43.739073</td>\n",
              "      <td>43.979423</td>\n",
              "      <td>36.546823</td>\n",
              "    </tr>\n",
              "    <tr>\n",
              "      <th>28</th>\n",
              "      <td>469.420990</td>\n",
              "      <td>39.515961</td>\n",
              "      <td>38.875507</td>\n",
              "      <td>19.135221</td>\n",
              "      <td>1003.076969</td>\n",
              "      <td>43.578875</td>\n",
              "      <td>1523.903722</td>\n",
              "      <td>4.445289</td>\n",
              "      <td>87.040672</td>\n",
              "      <td>50.789068</td>\n",
              "      <td>301.319669</td>\n",
              "      <td>20.972091</td>\n",
              "      <td>37.668204</td>\n",
              "      <td>21.756786</td>\n",
              "      <td>16.738848</td>\n",
              "      <td>1092.851722</td>\n",
              "      <td>1005.028077</td>\n",
              "      <td>47.505825</td>\n",
              "      <td>36.278826</td>\n",
              "      <td>39.345380</td>\n",
              "      <td>22.467963</td>\n",
              "      <td>30.637724</td>\n",
              "      <td>34.913234</td>\n",
              "      <td>34.133763</td>\n",
              "    </tr>\n",
              "    <tr>\n",
              "      <th>29</th>\n",
              "      <td>446.656958</td>\n",
              "      <td>39.917847</td>\n",
              "      <td>38.655443</td>\n",
              "      <td>19.245351</td>\n",
              "      <td>1003.235476</td>\n",
              "      <td>44.934405</td>\n",
              "      <td>1441.776332</td>\n",
              "      <td>4.978554</td>\n",
              "      <td>88.885086</td>\n",
              "      <td>50.130665</td>\n",
              "      <td>308.432530</td>\n",
              "      <td>20.896213</td>\n",
              "      <td>37.597984</td>\n",
              "      <td>21.039158</td>\n",
              "      <td>16.523539</td>\n",
              "      <td>1033.754120</td>\n",
              "      <td>1004.977264</td>\n",
              "      <td>47.323591</td>\n",
              "      <td>36.728590</td>\n",
              "      <td>39.498127</td>\n",
              "      <td>22.437909</td>\n",
              "      <td>27.690514</td>\n",
              "      <td>37.731440</td>\n",
              "      <td>43.868730</td>\n",
              "    </tr>\n",
              "    <tr>\n",
              "      <th>...</th>\n",
              "      <td>...</td>\n",
              "      <td>...</td>\n",
              "      <td>...</td>\n",
              "      <td>...</td>\n",
              "      <td>...</td>\n",
              "      <td>...</td>\n",
              "      <td>...</td>\n",
              "      <td>...</td>\n",
              "      <td>...</td>\n",
              "      <td>...</td>\n",
              "      <td>...</td>\n",
              "      <td>...</td>\n",
              "      <td>...</td>\n",
              "      <td>...</td>\n",
              "      <td>...</td>\n",
              "      <td>...</td>\n",
              "      <td>...</td>\n",
              "      <td>...</td>\n",
              "      <td>...</td>\n",
              "      <td>...</td>\n",
              "      <td>...</td>\n",
              "      <td>...</td>\n",
              "      <td>...</td>\n",
              "      <td>...</td>\n",
              "    </tr>\n",
              "    <tr>\n",
              "      <th>2622</th>\n",
              "      <td>486.942718</td>\n",
              "      <td>45.967607</td>\n",
              "      <td>39.740644</td>\n",
              "      <td>23.018059</td>\n",
              "      <td>991.093042</td>\n",
              "      <td>47.974072</td>\n",
              "      <td>1019.191494</td>\n",
              "      <td>19.886505</td>\n",
              "      <td>58.969425</td>\n",
              "      <td>45.850184</td>\n",
              "      <td>1360.777047</td>\n",
              "      <td>22.508034</td>\n",
              "      <td>48.011051</td>\n",
              "      <td>24.602229</td>\n",
              "      <td>21.105971</td>\n",
              "      <td>612.150312</td>\n",
              "      <td>992.796866</td>\n",
              "      <td>54.079202</td>\n",
              "      <td>46.437385</td>\n",
              "      <td>37.408042</td>\n",
              "      <td>21.749987</td>\n",
              "      <td>30.765338</td>\n",
              "      <td>32.698548</td>\n",
              "      <td>45.297404</td>\n",
              "    </tr>\n",
              "    <tr>\n",
              "      <th>2623</th>\n",
              "      <td>493.458457</td>\n",
              "      <td>46.165208</td>\n",
              "      <td>39.218720</td>\n",
              "      <td>23.026644</td>\n",
              "      <td>991.309410</td>\n",
              "      <td>47.373613</td>\n",
              "      <td>923.717654</td>\n",
              "      <td>20.092300</td>\n",
              "      <td>59.106400</td>\n",
              "      <td>45.126544</td>\n",
              "      <td>1359.881649</td>\n",
              "      <td>22.657782</td>\n",
              "      <td>47.989242</td>\n",
              "      <td>24.983059</td>\n",
              "      <td>21.038375</td>\n",
              "      <td>602.870328</td>\n",
              "      <td>992.774928</td>\n",
              "      <td>53.494252</td>\n",
              "      <td>46.590491</td>\n",
              "      <td>37.219845</td>\n",
              "      <td>21.853684</td>\n",
              "      <td>23.384093</td>\n",
              "      <td>30.253554</td>\n",
              "      <td>44.900685</td>\n",
              "    </tr>\n",
              "    <tr>\n",
              "      <th>2624</th>\n",
              "      <td>497.971168</td>\n",
              "      <td>45.753906</td>\n",
              "      <td>39.632806</td>\n",
              "      <td>23.119982</td>\n",
              "      <td>991.422476</td>\n",
              "      <td>48.770739</td>\n",
              "      <td>952.634085</td>\n",
              "      <td>23.992511</td>\n",
              "      <td>45.417003</td>\n",
              "      <td>45.457438</td>\n",
              "      <td>1185.392442</td>\n",
              "      <td>22.103864</td>\n",
              "      <td>47.535837</td>\n",
              "      <td>26.028717</td>\n",
              "      <td>21.541606</td>\n",
              "      <td>538.491520</td>\n",
              "      <td>993.279007</td>\n",
              "      <td>53.762599</td>\n",
              "      <td>46.068167</td>\n",
              "      <td>37.331308</td>\n",
              "      <td>22.313521</td>\n",
              "      <td>28.813815</td>\n",
              "      <td>31.613181</td>\n",
              "      <td>53.256293</td>\n",
              "    </tr>\n",
              "    <tr>\n",
              "      <th>2625</th>\n",
              "      <td>463.761267</td>\n",
              "      <td>45.238198</td>\n",
              "      <td>40.740463</td>\n",
              "      <td>23.278725</td>\n",
              "      <td>991.417662</td>\n",
              "      <td>47.725042</td>\n",
              "      <td>1130.132614</td>\n",
              "      <td>23.638839</td>\n",
              "      <td>42.434517</td>\n",
              "      <td>49.462399</td>\n",
              "      <td>1327.899739</td>\n",
              "      <td>22.715520</td>\n",
              "      <td>47.694593</td>\n",
              "      <td>26.131254</td>\n",
              "      <td>21.780876</td>\n",
              "      <td>630.395970</td>\n",
              "      <td>993.372567</td>\n",
              "      <td>54.388955</td>\n",
              "      <td>44.989860</td>\n",
              "      <td>37.518023</td>\n",
              "      <td>22.155062</td>\n",
              "      <td>39.178800</td>\n",
              "      <td>48.472117</td>\n",
              "      <td>58.719058</td>\n",
              "    </tr>\n",
              "    <tr>\n",
              "      <th>2626</th>\n",
              "      <td>453.105116</td>\n",
              "      <td>44.730357</td>\n",
              "      <td>40.911735</td>\n",
              "      <td>23.074755</td>\n",
              "      <td>991.389271</td>\n",
              "      <td>47.133031</td>\n",
              "      <td>1171.131248</td>\n",
              "      <td>23.949606</td>\n",
              "      <td>39.487736</td>\n",
              "      <td>49.588416</td>\n",
              "      <td>1235.240483</td>\n",
              "      <td>22.966139</td>\n",
              "      <td>47.149097</td>\n",
              "      <td>26.511878</td>\n",
              "      <td>21.663773</td>\n",
              "      <td>615.743339</td>\n",
              "      <td>993.415191</td>\n",
              "      <td>53.785708</td>\n",
              "      <td>44.752511</td>\n",
              "      <td>37.549347</td>\n",
              "      <td>22.472301</td>\n",
              "      <td>44.029109</td>\n",
              "      <td>43.889966</td>\n",
              "      <td>58.641973</td>\n",
              "    </tr>\n",
              "    <tr>\n",
              "      <th>2627</th>\n",
              "      <td>472.164326</td>\n",
              "      <td>44.745955</td>\n",
              "      <td>40.851384</td>\n",
              "      <td>23.127237</td>\n",
              "      <td>991.477578</td>\n",
              "      <td>46.312713</td>\n",
              "      <td>1146.693014</td>\n",
              "      <td>24.777439</td>\n",
              "      <td>37.408083</td>\n",
              "      <td>47.990517</td>\n",
              "      <td>1318.484101</td>\n",
              "      <td>22.840961</td>\n",
              "      <td>47.600461</td>\n",
              "      <td>26.466462</td>\n",
              "      <td>22.249190</td>\n",
              "      <td>632.740970</td>\n",
              "      <td>993.337099</td>\n",
              "      <td>54.279155</td>\n",
              "      <td>44.779249</td>\n",
              "      <td>37.389898</td>\n",
              "      <td>22.687729</td>\n",
              "      <td>45.996855</td>\n",
              "      <td>50.198372</td>\n",
              "      <td>60.547421</td>\n",
              "    </tr>\n",
              "    <tr>\n",
              "      <th>2628</th>\n",
              "      <td>459.707517</td>\n",
              "      <td>44.525582</td>\n",
              "      <td>40.747727</td>\n",
              "      <td>23.140571</td>\n",
              "      <td>991.554663</td>\n",
              "      <td>45.456100</td>\n",
              "      <td>1017.840175</td>\n",
              "      <td>25.396403</td>\n",
              "      <td>34.825390</td>\n",
              "      <td>45.503783</td>\n",
              "      <td>1224.563794</td>\n",
              "      <td>23.080156</td>\n",
              "      <td>47.013943</td>\n",
              "      <td>26.457720</td>\n",
              "      <td>21.943545</td>\n",
              "      <td>638.436604</td>\n",
              "      <td>993.354367</td>\n",
              "      <td>53.073204</td>\n",
              "      <td>44.123374</td>\n",
              "      <td>37.226869</td>\n",
              "      <td>22.924287</td>\n",
              "      <td>40.760474</td>\n",
              "      <td>37.113018</td>\n",
              "      <td>64.482911</td>\n",
              "    </tr>\n",
              "    <tr>\n",
              "      <th>2629</th>\n",
              "      <td>471.247740</td>\n",
              "      <td>43.625183</td>\n",
              "      <td>39.976837</td>\n",
              "      <td>23.075943</td>\n",
              "      <td>991.741606</td>\n",
              "      <td>46.942728</td>\n",
              "      <td>981.903712</td>\n",
              "      <td>25.554531</td>\n",
              "      <td>32.715420</td>\n",
              "      <td>48.429630</td>\n",
              "      <td>1128.345641</td>\n",
              "      <td>23.576820</td>\n",
              "      <td>45.854595</td>\n",
              "      <td>26.778863</td>\n",
              "      <td>21.520309</td>\n",
              "      <td>657.575823</td>\n",
              "      <td>993.343623</td>\n",
              "      <td>50.456486</td>\n",
              "      <td>43.266722</td>\n",
              "      <td>37.958756</td>\n",
              "      <td>23.424201</td>\n",
              "      <td>27.821273</td>\n",
              "      <td>25.103775</td>\n",
              "      <td>77.123745</td>\n",
              "    </tr>\n",
              "    <tr>\n",
              "      <th>2630</th>\n",
              "      <td>540.471171</td>\n",
              "      <td>42.657040</td>\n",
              "      <td>39.887830</td>\n",
              "      <td>22.585171</td>\n",
              "      <td>991.432783</td>\n",
              "      <td>49.391383</td>\n",
              "      <td>1312.433854</td>\n",
              "      <td>24.072129</td>\n",
              "      <td>31.313242</td>\n",
              "      <td>57.462180</td>\n",
              "      <td>967.341158</td>\n",
              "      <td>23.647460</td>\n",
              "      <td>45.507769</td>\n",
              "      <td>28.290355</td>\n",
              "      <td>21.691930</td>\n",
              "      <td>694.093456</td>\n",
              "      <td>993.352878</td>\n",
              "      <td>50.121751</td>\n",
              "      <td>42.783782</td>\n",
              "      <td>37.810877</td>\n",
              "      <td>23.659135</td>\n",
              "      <td>33.629638</td>\n",
              "      <td>36.545425</td>\n",
              "      <td>87.120085</td>\n",
              "    </tr>\n",
              "    <tr>\n",
              "      <th>2631</th>\n",
              "      <td>508.557540</td>\n",
              "      <td>41.365110</td>\n",
              "      <td>42.010963</td>\n",
              "      <td>22.783256</td>\n",
              "      <td>991.320336</td>\n",
              "      <td>48.724048</td>\n",
              "      <td>1599.261202</td>\n",
              "      <td>22.655212</td>\n",
              "      <td>37.740329</td>\n",
              "      <td>62.764215</td>\n",
              "      <td>1176.976760</td>\n",
              "      <td>23.788133</td>\n",
              "      <td>44.830912</td>\n",
              "      <td>26.467373</td>\n",
              "      <td>22.194409</td>\n",
              "      <td>811.537081</td>\n",
              "      <td>993.571882</td>\n",
              "      <td>51.626818</td>\n",
              "      <td>42.552971</td>\n",
              "      <td>37.851490</td>\n",
              "      <td>23.521726</td>\n",
              "      <td>65.102608</td>\n",
              "      <td>83.499987</td>\n",
              "      <td>96.946135</td>\n",
              "    </tr>\n",
              "    <tr>\n",
              "      <th>2632</th>\n",
              "      <td>516.263083</td>\n",
              "      <td>42.942513</td>\n",
              "      <td>39.906282</td>\n",
              "      <td>22.939351</td>\n",
              "      <td>991.472548</td>\n",
              "      <td>48.604082</td>\n",
              "      <td>1392.222515</td>\n",
              "      <td>22.758957</td>\n",
              "      <td>49.927951</td>\n",
              "      <td>56.053933</td>\n",
              "      <td>1121.454169</td>\n",
              "      <td>23.507695</td>\n",
              "      <td>44.685217</td>\n",
              "      <td>25.914279</td>\n",
              "      <td>21.818561</td>\n",
              "      <td>740.539965</td>\n",
              "      <td>993.435403</td>\n",
              "      <td>49.482172</td>\n",
              "      <td>43.528749</td>\n",
              "      <td>37.400719</td>\n",
              "      <td>24.084381</td>\n",
              "      <td>40.426096</td>\n",
              "      <td>48.170863</td>\n",
              "      <td>78.095120</td>\n",
              "    </tr>\n",
              "    <tr>\n",
              "      <th>2633</th>\n",
              "      <td>521.723104</td>\n",
              "      <td>42.488053</td>\n",
              "      <td>39.906904</td>\n",
              "      <td>22.992380</td>\n",
              "      <td>991.501641</td>\n",
              "      <td>46.980736</td>\n",
              "      <td>1322.996988</td>\n",
              "      <td>22.103563</td>\n",
              "      <td>51.460376</td>\n",
              "      <td>52.637607</td>\n",
              "      <td>1150.478329</td>\n",
              "      <td>23.549674</td>\n",
              "      <td>43.636819</td>\n",
              "      <td>25.222388</td>\n",
              "      <td>21.881915</td>\n",
              "      <td>626.137736</td>\n",
              "      <td>993.330181</td>\n",
              "      <td>49.328771</td>\n",
              "      <td>43.365763</td>\n",
              "      <td>37.920362</td>\n",
              "      <td>24.483024</td>\n",
              "      <td>38.701933</td>\n",
              "      <td>46.379953</td>\n",
              "      <td>66.985020</td>\n",
              "    </tr>\n",
              "    <tr>\n",
              "      <th>2634</th>\n",
              "      <td>536.802403</td>\n",
              "      <td>42.729959</td>\n",
              "      <td>40.653645</td>\n",
              "      <td>23.151727</td>\n",
              "      <td>992.004045</td>\n",
              "      <td>48.784887</td>\n",
              "      <td>1607.867051</td>\n",
              "      <td>22.243829</td>\n",
              "      <td>52.600517</td>\n",
              "      <td>54.159829</td>\n",
              "      <td>1069.383011</td>\n",
              "      <td>23.066299</td>\n",
              "      <td>42.871607</td>\n",
              "      <td>26.592746</td>\n",
              "      <td>21.753353</td>\n",
              "      <td>692.017757</td>\n",
              "      <td>993.119756</td>\n",
              "      <td>48.964242</td>\n",
              "      <td>43.552017</td>\n",
              "      <td>38.352517</td>\n",
              "      <td>24.562830</td>\n",
              "      <td>50.587519</td>\n",
              "      <td>42.282005</td>\n",
              "      <td>79.699979</td>\n",
              "    </tr>\n",
              "    <tr>\n",
              "      <th>2635</th>\n",
              "      <td>535.012704</td>\n",
              "      <td>41.598683</td>\n",
              "      <td>40.916064</td>\n",
              "      <td>22.861315</td>\n",
              "      <td>991.834006</td>\n",
              "      <td>47.452675</td>\n",
              "      <td>1683.376055</td>\n",
              "      <td>21.075992</td>\n",
              "      <td>51.329743</td>\n",
              "      <td>59.667115</td>\n",
              "      <td>1123.958770</td>\n",
              "      <td>24.031418</td>\n",
              "      <td>43.311180</td>\n",
              "      <td>26.344265</td>\n",
              "      <td>21.665453</td>\n",
              "      <td>798.041158</td>\n",
              "      <td>993.365193</td>\n",
              "      <td>48.398151</td>\n",
              "      <td>43.105974</td>\n",
              "      <td>38.266329</td>\n",
              "      <td>24.354791</td>\n",
              "      <td>52.261380</td>\n",
              "      <td>55.160921</td>\n",
              "      <td>88.908807</td>\n",
              "    </tr>\n",
              "    <tr>\n",
              "      <th>2636</th>\n",
              "      <td>599.525625</td>\n",
              "      <td>41.565226</td>\n",
              "      <td>40.856765</td>\n",
              "      <td>22.736467</td>\n",
              "      <td>991.609985</td>\n",
              "      <td>48.108805</td>\n",
              "      <td>1627.438570</td>\n",
              "      <td>20.971783</td>\n",
              "      <td>51.273975</td>\n",
              "      <td>60.262831</td>\n",
              "      <td>995.320568</td>\n",
              "      <td>24.020795</td>\n",
              "      <td>43.029013</td>\n",
              "      <td>26.665003</td>\n",
              "      <td>21.703258</td>\n",
              "      <td>817.931503</td>\n",
              "      <td>993.585943</td>\n",
              "      <td>48.309654</td>\n",
              "      <td>43.389233</td>\n",
              "      <td>38.310839</td>\n",
              "      <td>24.458201</td>\n",
              "      <td>48.512898</td>\n",
              "      <td>54.625827</td>\n",
              "      <td>88.800019</td>\n",
              "    </tr>\n",
              "    <tr>\n",
              "      <th>2637</th>\n",
              "      <td>611.446408</td>\n",
              "      <td>41.361020</td>\n",
              "      <td>40.970938</td>\n",
              "      <td>22.814181</td>\n",
              "      <td>991.589674</td>\n",
              "      <td>48.018678</td>\n",
              "      <td>1593.833953</td>\n",
              "      <td>20.897943</td>\n",
              "      <td>50.261910</td>\n",
              "      <td>58.145410</td>\n",
              "      <td>991.333167</td>\n",
              "      <td>23.710110</td>\n",
              "      <td>42.274280</td>\n",
              "      <td>26.274147</td>\n",
              "      <td>22.076886</td>\n",
              "      <td>758.681911</td>\n",
              "      <td>993.722841</td>\n",
              "      <td>48.708189</td>\n",
              "      <td>43.586267</td>\n",
              "      <td>38.516214</td>\n",
              "      <td>24.430901</td>\n",
              "      <td>49.991361</td>\n",
              "      <td>57.912956</td>\n",
              "      <td>80.740348</td>\n",
              "    </tr>\n",
              "    <tr>\n",
              "      <th>2638</th>\n",
              "      <td>567.520849</td>\n",
              "      <td>42.155343</td>\n",
              "      <td>40.241593</td>\n",
              "      <td>23.035494</td>\n",
              "      <td>991.703188</td>\n",
              "      <td>47.742526</td>\n",
              "      <td>1487.455372</td>\n",
              "      <td>20.338963</td>\n",
              "      <td>51.947111</td>\n",
              "      <td>53.265417</td>\n",
              "      <td>981.311087</td>\n",
              "      <td>23.882419</td>\n",
              "      <td>42.820526</td>\n",
              "      <td>25.960986</td>\n",
              "      <td>21.863152</td>\n",
              "      <td>786.870753</td>\n",
              "      <td>993.707360</td>\n",
              "      <td>47.722602</td>\n",
              "      <td>43.279197</td>\n",
              "      <td>37.596874</td>\n",
              "      <td>24.400010</td>\n",
              "      <td>37.028882</td>\n",
              "      <td>27.942549</td>\n",
              "      <td>58.432564</td>\n",
              "    </tr>\n",
              "    <tr>\n",
              "      <th>2639</th>\n",
              "      <td>549.162408</td>\n",
              "      <td>41.529240</td>\n",
              "      <td>40.166196</td>\n",
              "      <td>23.082116</td>\n",
              "      <td>991.579909</td>\n",
              "      <td>44.956057</td>\n",
              "      <td>1399.482048</td>\n",
              "      <td>20.583377</td>\n",
              "      <td>53.106914</td>\n",
              "      <td>54.255477</td>\n",
              "      <td>1107.611352</td>\n",
              "      <td>24.739288</td>\n",
              "      <td>43.108847</td>\n",
              "      <td>24.504414</td>\n",
              "      <td>21.641257</td>\n",
              "      <td>748.629898</td>\n",
              "      <td>993.817021</td>\n",
              "      <td>46.773592</td>\n",
              "      <td>43.356274</td>\n",
              "      <td>38.360552</td>\n",
              "      <td>24.457331</td>\n",
              "      <td>28.015111</td>\n",
              "      <td>30.171927</td>\n",
              "      <td>60.202340</td>\n",
              "    </tr>\n",
              "    <tr>\n",
              "      <th>2640</th>\n",
              "      <td>703.986368</td>\n",
              "      <td>41.804078</td>\n",
              "      <td>39.994563</td>\n",
              "      <td>22.911009</td>\n",
              "      <td>991.546617</td>\n",
              "      <td>46.034516</td>\n",
              "      <td>1233.889377</td>\n",
              "      <td>20.703190</td>\n",
              "      <td>56.251278</td>\n",
              "      <td>52.445630</td>\n",
              "      <td>1000.241587</td>\n",
              "      <td>24.303030</td>\n",
              "      <td>42.435553</td>\n",
              "      <td>25.294997</td>\n",
              "      <td>21.762205</td>\n",
              "      <td>640.433144</td>\n",
              "      <td>994.076824</td>\n",
              "      <td>47.435835</td>\n",
              "      <td>44.546084</td>\n",
              "      <td>39.079716</td>\n",
              "      <td>24.798766</td>\n",
              "      <td>26.974985</td>\n",
              "      <td>35.560076</td>\n",
              "      <td>67.215462</td>\n",
              "    </tr>\n",
              "    <tr>\n",
              "      <th>2641</th>\n",
              "      <td>541.180510</td>\n",
              "      <td>42.522625</td>\n",
              "      <td>40.283756</td>\n",
              "      <td>23.496878</td>\n",
              "      <td>991.790436</td>\n",
              "      <td>43.266110</td>\n",
              "      <td>1244.489343</td>\n",
              "      <td>19.930373</td>\n",
              "      <td>57.603520</td>\n",
              "      <td>48.244250</td>\n",
              "      <td>1093.581129</td>\n",
              "      <td>24.160757</td>\n",
              "      <td>41.978907</td>\n",
              "      <td>25.252303</td>\n",
              "      <td>21.722721</td>\n",
              "      <td>684.012449</td>\n",
              "      <td>994.052659</td>\n",
              "      <td>47.649471</td>\n",
              "      <td>43.805267</td>\n",
              "      <td>37.971451</td>\n",
              "      <td>24.587176</td>\n",
              "      <td>31.927532</td>\n",
              "      <td>33.418509</td>\n",
              "      <td>50.138128</td>\n",
              "    </tr>\n",
              "    <tr>\n",
              "      <th>2642</th>\n",
              "      <td>532.257859</td>\n",
              "      <td>42.820951</td>\n",
              "      <td>39.900693</td>\n",
              "      <td>23.505855</td>\n",
              "      <td>991.914803</td>\n",
              "      <td>44.158954</td>\n",
              "      <td>1320.746062</td>\n",
              "      <td>19.602431</td>\n",
              "      <td>59.562247</td>\n",
              "      <td>50.463360</td>\n",
              "      <td>1072.723644</td>\n",
              "      <td>24.137696</td>\n",
              "      <td>41.622096</td>\n",
              "      <td>25.853056</td>\n",
              "      <td>21.465970</td>\n",
              "      <td>683.028036</td>\n",
              "      <td>993.933559</td>\n",
              "      <td>46.876751</td>\n",
              "      <td>43.859277</td>\n",
              "      <td>38.513784</td>\n",
              "      <td>24.612267</td>\n",
              "      <td>30.160115</td>\n",
              "      <td>31.935609</td>\n",
              "      <td>67.215824</td>\n",
              "    </tr>\n",
              "    <tr>\n",
              "      <th>2643</th>\n",
              "      <td>587.463809</td>\n",
              "      <td>42.405176</td>\n",
              "      <td>40.037392</td>\n",
              "      <td>23.336289</td>\n",
              "      <td>991.766218</td>\n",
              "      <td>45.636954</td>\n",
              "      <td>1320.441131</td>\n",
              "      <td>19.193063</td>\n",
              "      <td>59.897260</td>\n",
              "      <td>51.506895</td>\n",
              "      <td>1017.619219</td>\n",
              "      <td>24.108538</td>\n",
              "      <td>41.620475</td>\n",
              "      <td>25.725437</td>\n",
              "      <td>21.615846</td>\n",
              "      <td>721.681144</td>\n",
              "      <td>994.174020</td>\n",
              "      <td>47.044975</td>\n",
              "      <td>43.882143</td>\n",
              "      <td>38.205396</td>\n",
              "      <td>24.585599</td>\n",
              "      <td>32.788170</td>\n",
              "      <td>34.715764</td>\n",
              "      <td>65.281671</td>\n",
              "    </tr>\n",
              "    <tr>\n",
              "      <th>2644</th>\n",
              "      <td>593.661234</td>\n",
              "      <td>42.671667</td>\n",
              "      <td>39.702263</td>\n",
              "      <td>23.299716</td>\n",
              "      <td>991.851376</td>\n",
              "      <td>46.891737</td>\n",
              "      <td>1376.696751</td>\n",
              "      <td>19.205990</td>\n",
              "      <td>61.311588</td>\n",
              "      <td>50.693077</td>\n",
              "      <td>965.441264</td>\n",
              "      <td>24.138030</td>\n",
              "      <td>41.691687</td>\n",
              "      <td>25.699927</td>\n",
              "      <td>21.459304</td>\n",
              "      <td>737.653930</td>\n",
              "      <td>994.176814</td>\n",
              "      <td>46.198095</td>\n",
              "      <td>43.806948</td>\n",
              "      <td>38.121503</td>\n",
              "      <td>24.598194</td>\n",
              "      <td>27.658547</td>\n",
              "      <td>15.388491</td>\n",
              "      <td>58.019682</td>\n",
              "    </tr>\n",
              "    <tr>\n",
              "      <th>2645</th>\n",
              "      <td>603.263181</td>\n",
              "      <td>42.669011</td>\n",
              "      <td>39.696038</td>\n",
              "      <td>23.226650</td>\n",
              "      <td>991.795110</td>\n",
              "      <td>47.131463</td>\n",
              "      <td>1370.942779</td>\n",
              "      <td>18.772503</td>\n",
              "      <td>62.361718</td>\n",
              "      <td>50.724320</td>\n",
              "      <td>953.397701</td>\n",
              "      <td>24.164457</td>\n",
              "      <td>41.597544</td>\n",
              "      <td>25.806473</td>\n",
              "      <td>21.534214</td>\n",
              "      <td>781.341221</td>\n",
              "      <td>994.131128</td>\n",
              "      <td>46.240219</td>\n",
              "      <td>43.686803</td>\n",
              "      <td>37.622458</td>\n",
              "      <td>24.547970</td>\n",
              "      <td>29.146919</td>\n",
              "      <td>16.658260</td>\n",
              "      <td>54.601751</td>\n",
              "    </tr>\n",
              "    <tr>\n",
              "      <th>2646</th>\n",
              "      <td>647.526773</td>\n",
              "      <td>42.515495</td>\n",
              "      <td>39.304575</td>\n",
              "      <td>23.052767</td>\n",
              "      <td>991.702396</td>\n",
              "      <td>47.478028</td>\n",
              "      <td>1286.321519</td>\n",
              "      <td>18.341353</td>\n",
              "      <td>64.039991</td>\n",
              "      <td>51.471838</td>\n",
              "      <td>873.755395</td>\n",
              "      <td>24.127053</td>\n",
              "      <td>41.414792</td>\n",
              "      <td>25.849349</td>\n",
              "      <td>21.479599</td>\n",
              "      <td>753.599120</td>\n",
              "      <td>994.518480</td>\n",
              "      <td>46.349099</td>\n",
              "      <td>43.975977</td>\n",
              "      <td>37.817800</td>\n",
              "      <td>24.661995</td>\n",
              "      <td>24.823960</td>\n",
              "      <td>20.382567</td>\n",
              "      <td>59.079822</td>\n",
              "    </tr>\n",
              "    <tr>\n",
              "      <th>2647</th>\n",
              "      <td>632.164374</td>\n",
              "      <td>42.713938</td>\n",
              "      <td>39.500942</td>\n",
              "      <td>23.113048</td>\n",
              "      <td>991.858368</td>\n",
              "      <td>46.467707</td>\n",
              "      <td>1270.367151</td>\n",
              "      <td>18.488011</td>\n",
              "      <td>63.790215</td>\n",
              "      <td>49.082830</td>\n",
              "      <td>865.557195</td>\n",
              "      <td>23.959987</td>\n",
              "      <td>40.732997</td>\n",
              "      <td>26.649408</td>\n",
              "      <td>21.305871</td>\n",
              "      <td>723.510105</td>\n",
              "      <td>994.368763</td>\n",
              "      <td>46.357531</td>\n",
              "      <td>44.014763</td>\n",
              "      <td>38.044770</td>\n",
              "      <td>24.644187</td>\n",
              "      <td>29.353760</td>\n",
              "      <td>15.474500</td>\n",
              "      <td>58.848195</td>\n",
              "    </tr>\n",
              "    <tr>\n",
              "      <th>2648</th>\n",
              "      <td>595.370029</td>\n",
              "      <td>43.064159</td>\n",
              "      <td>39.376608</td>\n",
              "      <td>23.085499</td>\n",
              "      <td>991.845774</td>\n",
              "      <td>45.329501</td>\n",
              "      <td>1259.043164</td>\n",
              "      <td>18.071077</td>\n",
              "      <td>65.113340</td>\n",
              "      <td>48.368661</td>\n",
              "      <td>858.919314</td>\n",
              "      <td>24.059172</td>\n",
              "      <td>41.074949</td>\n",
              "      <td>26.256325</td>\n",
              "      <td>21.309040</td>\n",
              "      <td>750.351492</td>\n",
              "      <td>994.777270</td>\n",
              "      <td>46.668245</td>\n",
              "      <td>43.654072</td>\n",
              "      <td>37.600383</td>\n",
              "      <td>24.570733</td>\n",
              "      <td>26.325381</td>\n",
              "      <td>15.042906</td>\n",
              "      <td>50.312990</td>\n",
              "    </tr>\n",
              "    <tr>\n",
              "      <th>2649</th>\n",
              "      <td>575.398827</td>\n",
              "      <td>42.746833</td>\n",
              "      <td>38.865455</td>\n",
              "      <td>22.933152</td>\n",
              "      <td>991.643419</td>\n",
              "      <td>44.555760</td>\n",
              "      <td>1040.296537</td>\n",
              "      <td>17.350697</td>\n",
              "      <td>65.350991</td>\n",
              "      <td>47.204298</td>\n",
              "      <td>861.781449</td>\n",
              "      <td>24.298746</td>\n",
              "      <td>40.977644</td>\n",
              "      <td>25.276501</td>\n",
              "      <td>21.257605</td>\n",
              "      <td>733.270179</td>\n",
              "      <td>994.966766</td>\n",
              "      <td>46.889869</td>\n",
              "      <td>43.372093</td>\n",
              "      <td>37.450588</td>\n",
              "      <td>24.487738</td>\n",
              "      <td>18.398106</td>\n",
              "      <td>19.288703</td>\n",
              "      <td>46.651912</td>\n",
              "    </tr>\n",
              "    <tr>\n",
              "      <th>2650</th>\n",
              "      <td>576.956999</td>\n",
              "      <td>42.962040</td>\n",
              "      <td>38.433663</td>\n",
              "      <td>22.946921</td>\n",
              "      <td>991.670700</td>\n",
              "      <td>45.195512</td>\n",
              "      <td>954.558287</td>\n",
              "      <td>17.383932</td>\n",
              "      <td>65.551301</td>\n",
              "      <td>45.724096</td>\n",
              "      <td>830.307288</td>\n",
              "      <td>24.181016</td>\n",
              "      <td>40.755292</td>\n",
              "      <td>25.242683</td>\n",
              "      <td>21.157524</td>\n",
              "      <td>717.096944</td>\n",
              "      <td>994.939209</td>\n",
              "      <td>46.458797</td>\n",
              "      <td>43.329150</td>\n",
              "      <td>37.465171</td>\n",
              "      <td>24.490805</td>\n",
              "      <td>12.405368</td>\n",
              "      <td>11.722274</td>\n",
              "      <td>45.350755</td>\n",
              "    </tr>\n",
              "    <tr>\n",
              "      <th>2651</th>\n",
              "      <td>567.433705</td>\n",
              "      <td>42.967125</td>\n",
              "      <td>38.625687</td>\n",
              "      <td>22.987736</td>\n",
              "      <td>991.716876</td>\n",
              "      <td>43.721377</td>\n",
              "      <td>974.616907</td>\n",
              "      <td>17.544211</td>\n",
              "      <td>65.710340</td>\n",
              "      <td>45.470593</td>\n",
              "      <td>858.922130</td>\n",
              "      <td>24.280133</td>\n",
              "      <td>40.815723</td>\n",
              "      <td>25.489975</td>\n",
              "      <td>21.132256</td>\n",
              "      <td>703.139795</td>\n",
              "      <td>994.895973</td>\n",
              "      <td>46.630236</td>\n",
              "      <td>43.495738</td>\n",
              "      <td>37.523592</td>\n",
              "      <td>24.551922</td>\n",
              "      <td>14.834350</td>\n",
              "      <td>13.615094</td>\n",
              "      <td>44.352218</td>\n",
              "    </tr>\n",
              "  </tbody>\n",
              "</table>\n",
              "<p>2652 rows × 24 columns</p>\n",
              "</div>"
            ],
            "text/plain": [
              "      ff_museum_c02  ff_museum_Humidity  ...  ff_museum_wifi  gf_lobby_wifi\n",
              "0        432.640955           38.649776  ...       26.502133      16.894287\n",
              "1        391.833792           38.609652  ...       54.320862      45.904957\n",
              "2        431.916379           38.976779  ...       46.017452      47.633993\n",
              "3        404.142535           38.307838  ...       47.227962      41.948878\n",
              "4        408.485712           38.373140  ...       42.970120      33.704638\n",
              "5        450.096666           39.253481  ...       40.301097      46.474665\n",
              "6        476.182752           38.479971  ...       41.557716      48.358492\n",
              "7        460.114660           38.344119  ...       58.430658      68.608361\n",
              "8        488.787067           38.567642  ...       48.177954      48.133226\n",
              "9        501.140062           38.225107  ...       38.339343      45.837580\n",
              "10       542.550996           38.081761  ...       41.388825      49.845702\n",
              "11       555.205184           37.750530  ...       68.903581      67.724960\n",
              "12       526.280741           38.347988  ...       66.532519      75.574178\n",
              "13       534.121932           37.878231  ...       64.973774      69.211876\n",
              "14       556.975676           37.110195  ...       76.591953      68.641396\n",
              "15       517.048420           37.874307  ...       71.625675      81.262640\n",
              "16       524.447509           37.812092  ...       66.914432      63.896192\n",
              "17       544.492138           37.842492  ...       61.010403      55.552178\n",
              "18       571.711932           39.030714  ...       46.909353      59.299442\n",
              "19       503.997048           39.798410  ...       52.609656      47.555659\n",
              "20       482.377773           39.206579  ...       41.191145      45.345637\n",
              "21       507.448339           38.569375  ...       37.018728      35.213699\n",
              "22       500.838092           38.911339  ...       38.325229      45.280586\n",
              "23       534.342172           39.121872  ...       41.136365      45.765077\n",
              "24       535.453480           38.584596  ...       39.515231      43.585648\n",
              "25       502.906744           39.191486  ...       33.419943      44.965130\n",
              "26       486.779547           39.048105  ...       39.688074      39.040759\n",
              "27       495.278840           38.661326  ...       43.979423      36.546823\n",
              "28       469.420990           39.515961  ...       34.913234      34.133763\n",
              "29       446.656958           39.917847  ...       37.731440      43.868730\n",
              "...             ...                 ...  ...             ...            ...\n",
              "2622     486.942718           45.967607  ...       32.698548      45.297404\n",
              "2623     493.458457           46.165208  ...       30.253554      44.900685\n",
              "2624     497.971168           45.753906  ...       31.613181      53.256293\n",
              "2625     463.761267           45.238198  ...       48.472117      58.719058\n",
              "2626     453.105116           44.730357  ...       43.889966      58.641973\n",
              "2627     472.164326           44.745955  ...       50.198372      60.547421\n",
              "2628     459.707517           44.525582  ...       37.113018      64.482911\n",
              "2629     471.247740           43.625183  ...       25.103775      77.123745\n",
              "2630     540.471171           42.657040  ...       36.545425      87.120085\n",
              "2631     508.557540           41.365110  ...       83.499987      96.946135\n",
              "2632     516.263083           42.942513  ...       48.170863      78.095120\n",
              "2633     521.723104           42.488053  ...       46.379953      66.985020\n",
              "2634     536.802403           42.729959  ...       42.282005      79.699979\n",
              "2635     535.012704           41.598683  ...       55.160921      88.908807\n",
              "2636     599.525625           41.565226  ...       54.625827      88.800019\n",
              "2637     611.446408           41.361020  ...       57.912956      80.740348\n",
              "2638     567.520849           42.155343  ...       27.942549      58.432564\n",
              "2639     549.162408           41.529240  ...       30.171927      60.202340\n",
              "2640     703.986368           41.804078  ...       35.560076      67.215462\n",
              "2641     541.180510           42.522625  ...       33.418509      50.138128\n",
              "2642     532.257859           42.820951  ...       31.935609      67.215824\n",
              "2643     587.463809           42.405176  ...       34.715764      65.281671\n",
              "2644     593.661234           42.671667  ...       15.388491      58.019682\n",
              "2645     603.263181           42.669011  ...       16.658260      54.601751\n",
              "2646     647.526773           42.515495  ...       20.382567      59.079822\n",
              "2647     632.164374           42.713938  ...       15.474500      58.848195\n",
              "2648     595.370029           43.064159  ...       15.042906      50.312990\n",
              "2649     575.398827           42.746833  ...       19.288703      46.651912\n",
              "2650     576.956999           42.962040  ...       11.722274      45.350755\n",
              "2651     567.433705           42.967125  ...       13.615094      44.352218\n",
              "\n",
              "[2652 rows x 24 columns]"
            ]
          },
          "metadata": {
            "tags": []
          },
          "execution_count": 11
        }
      ]
    },
    {
      "cell_type": "code",
      "metadata": {
        "id": "UHgtSlkKR2SK",
        "colab_type": "code",
        "outputId": "a65e15e6-0110-4ce1-fe19-836a30b19887",
        "colab": {
          "base_uri": "https://localhost:8080/",
          "height": 35
        }
      },
      "source": [
        "model_error.shape"
      ],
      "execution_count": 0,
      "outputs": [
        {
          "output_type": "execute_result",
          "data": {
            "text/plain": [
              "(2652, 25)"
            ]
          },
          "metadata": {
            "tags": []
          },
          "execution_count": 12
        }
      ]
    },
    {
      "cell_type": "code",
      "metadata": {
        "id": "aRpBJi5CeflB",
        "colab_type": "code",
        "outputId": "e1a5cc10-f953-4926-897b-2bd58c89afc4",
        "colab": {
          "base_uri": "https://localhost:8080/",
          "height": 55
        }
      },
      "source": [
        "# # Run this cell to mount your Google Drive.\n",
        "# from google.colab import drive\n",
        "# drive.mount('/content/drive')"
      ],
      "execution_count": 0,
      "outputs": [
        {
          "output_type": "stream",
          "text": [
            "Drive already mounted at /content/drive; to attempt to forcibly remount, call drive.mount(\"/content/drive\", force_remount=True).\n"
          ],
          "name": "stdout"
        }
      ]
    },
    {
      "cell_type": "code",
      "metadata": {
        "id": "ODOnVR2eIeiC",
        "colab_type": "code",
        "outputId": "8b745031-69d5-4167-c4f0-f00a5f6de5d1",
        "colab": {
          "base_uri": "https://localhost:8080/",
          "height": 1000
        }
      },
      "source": [
        "##Visualization part\n",
        "sensors_data.columns # list1\n",
        "l2 = [1,2,3,4,5,6] # list2\n",
        "## lets take 2 dataframes for visualization - one for actual ata and one for predicted\n",
        "print(sensors_data.shape)\n",
        "print(predicted_sensordf)\n",
        "Actual = sensors_data.to_json (r'sensors_data.json')\n",
        "Predicted = predicted_sensordf.to_json(r'predicted_sensor')"
      ],
      "execution_count": 0,
      "outputs": [
        {
          "output_type": "stream",
          "text": [
            "(2652, 25)\n",
            "      ff_museum_c02  ff_museum_Humidity  ...  ff_museum_wifi  gf_lobby_wifi\n",
            "0        432.640955           38.649776  ...       26.502133      16.894287\n",
            "1        391.833792           38.609652  ...       54.320862      45.904957\n",
            "2        431.916379           38.976779  ...       46.017452      47.633993\n",
            "3        404.142535           38.307838  ...       47.227962      41.948878\n",
            "4        408.485712           38.373140  ...       42.970120      33.704638\n",
            "5        450.096666           39.253481  ...       40.301097      46.474665\n",
            "6        476.182752           38.479971  ...       41.557716      48.358492\n",
            "7        460.114660           38.344119  ...       58.430658      68.608361\n",
            "8        488.787067           38.567642  ...       48.177954      48.133226\n",
            "9        501.140062           38.225107  ...       38.339343      45.837580\n",
            "10       542.550996           38.081761  ...       41.388825      49.845702\n",
            "11       555.205184           37.750530  ...       68.903581      67.724960\n",
            "12       526.280741           38.347988  ...       66.532519      75.574178\n",
            "13       534.121932           37.878231  ...       64.973774      69.211876\n",
            "14       556.975676           37.110195  ...       76.591953      68.641396\n",
            "15       517.048420           37.874307  ...       71.625675      81.262640\n",
            "16       524.447509           37.812092  ...       66.914432      63.896192\n",
            "17       544.492138           37.842492  ...       61.010403      55.552178\n",
            "18       571.711932           39.030714  ...       46.909353      59.299442\n",
            "19       503.997048           39.798410  ...       52.609656      47.555659\n",
            "20       482.377773           39.206579  ...       41.191145      45.345637\n",
            "21       507.448339           38.569375  ...       37.018728      35.213699\n",
            "22       500.838092           38.911339  ...       38.325229      45.280586\n",
            "23       534.342172           39.121872  ...       41.136365      45.765077\n",
            "24       535.453480           38.584596  ...       39.515231      43.585648\n",
            "25       502.906744           39.191486  ...       33.419943      44.965130\n",
            "26       486.779547           39.048105  ...       39.688074      39.040759\n",
            "27       495.278840           38.661326  ...       43.979423      36.546823\n",
            "28       469.420990           39.515961  ...       34.913234      34.133763\n",
            "29       446.656958           39.917847  ...       37.731440      43.868730\n",
            "...             ...                 ...  ...             ...            ...\n",
            "2622     486.942718           45.967607  ...       32.698548      45.297404\n",
            "2623     493.458457           46.165208  ...       30.253554      44.900685\n",
            "2624     497.971168           45.753906  ...       31.613181      53.256293\n",
            "2625     463.761267           45.238198  ...       48.472117      58.719058\n",
            "2626     453.105116           44.730357  ...       43.889966      58.641973\n",
            "2627     472.164326           44.745955  ...       50.198372      60.547421\n",
            "2628     459.707517           44.525582  ...       37.113018      64.482911\n",
            "2629     471.247740           43.625183  ...       25.103775      77.123745\n",
            "2630     540.471171           42.657040  ...       36.545425      87.120085\n",
            "2631     508.557540           41.365110  ...       83.499987      96.946135\n",
            "2632     516.263083           42.942513  ...       48.170863      78.095120\n",
            "2633     521.723104           42.488053  ...       46.379953      66.985020\n",
            "2634     536.802403           42.729959  ...       42.282005      79.699979\n",
            "2635     535.012704           41.598683  ...       55.160921      88.908807\n",
            "2636     599.525625           41.565226  ...       54.625827      88.800019\n",
            "2637     611.446408           41.361020  ...       57.912956      80.740348\n",
            "2638     567.520849           42.155343  ...       27.942549      58.432564\n",
            "2639     549.162408           41.529240  ...       30.171927      60.202340\n",
            "2640     703.986368           41.804078  ...       35.560076      67.215462\n",
            "2641     541.180510           42.522625  ...       33.418509      50.138128\n",
            "2642     532.257859           42.820951  ...       31.935609      67.215824\n",
            "2643     587.463809           42.405176  ...       34.715764      65.281671\n",
            "2644     593.661234           42.671667  ...       15.388491      58.019682\n",
            "2645     603.263181           42.669011  ...       16.658260      54.601751\n",
            "2646     647.526773           42.515495  ...       20.382567      59.079822\n",
            "2647     632.164374           42.713938  ...       15.474500      58.848195\n",
            "2648     595.370029           43.064159  ...       15.042906      50.312990\n",
            "2649     575.398827           42.746833  ...       19.288703      46.651912\n",
            "2650     576.956999           42.962040  ...       11.722274      45.350755\n",
            "2651     567.433705           42.967125  ...       13.615094      44.352218\n",
            "\n",
            "[2652 rows x 24 columns]\n"
          ],
          "name": "stdout"
        }
      ]
    },
    {
      "cell_type": "markdown",
      "metadata": {
        "id": "hs-51f-ZqM_S",
        "colab_type": "text"
      },
      "source": [
        "### each sensor variable distribution"
      ]
    },
    {
      "cell_type": "code",
      "metadata": {
        "id": "gaMAcAlZqRhK",
        "colab_type": "code",
        "outputId": "700a9e02-3a93-43de-ce8b-2a2155e115af",
        "colab": {
          "base_uri": "https://localhost:8080/",
          "height": 1000
        }
      },
      "source": [
        "pltno = 0\n",
        "fig, ax = plt.subplots(2, 2)\n",
        "for i,column in enumerate(sensors_data.columns):\n",
        "  if column!='utime':\n",
        "#     print(column)\n",
        "    # converts column values to numpy array\n",
        "    x = sensors_data[column].values\n",
        "    # The grid we'll use for plotting\n",
        "    x_grid = np.linspace(x.min(), x.max(), 1000)\n",
        "    y = kde_scipy(x,x_grid)\n",
        "    r = int(pltno/2)\n",
        "    c = int(pltno%2)\n",
        "    ax[r, c].plot(x_grid, y, color='red', alpha=0.5, lw=2,)# in place of colour = 'r--'\n",
        "    ax[r, c].set_title(column, y=1)\n",
        "#     ax[r, c].title.set_position([0.1,1.25])\n",
        "    ax[r, c].set_xlabel('value')\n",
        "    ax[r, c].set_ylabel('pdf')\n",
        "    if pltno == 3:\n",
        "      plt.subplots_adjust(top=0.92, bottom=0.08, left=0.10, right=0.95, hspace=1,\n",
        "                    wspace=0.35)\n",
        "      plt.show()\n",
        "      pltno = 0 \n",
        "      fig, ax = plt.subplots(2, 2)\n",
        "    else:\n",
        "      pltno += 1       "
      ],
      "execution_count": 0,
      "outputs": [
        {
          "output_type": "display_data",
          "data": {
            "image/png": "[encoded data removed]",
            "text/plain": [
              "<Figure size 432x288 with 4 Axes>"
            ]
          },
          "metadata": {
            "tags": []
          }
        },
        {
          "output_type": "display_data",
          "data": {
            "image/png": "[encoded data removed]",
            "text/plain": [
              "<Figure size 432x288 with 4 Axes>"
            ]
          },
          "metadata": {
            "tags": []
          }
        },
        {
          "output_type": "display_data",
          "data": {
            "image/png": "[encoded data removed]",
            "text/plain": [
              "<Figure size 432x288 with 4 Axes>"
            ]
          },
          "metadata": {
            "tags": []
          }
        },
        {
          "output_type": "display_data",
          "data": {
            "image/png": "[encoded data removed]",
            "text/plain": [
              "<Figure size 432x288 with 4 Axes>"
            ]
          },
          "metadata": {
            "tags": []
          }
        },
        {
          "output_type": "display_data",
          "data": {
            "image/png": "[encoded data removed]",
            "text/plain": [
              "<Figure size 432x288 with 4 Axes>"
            ]
          },
          "metadata": {
            "tags": []
          }
        },
        {
          "output_type": "display_data",
          "data": {
            "image/png": "[encoded data removed]",
            "text/plain": [
              "<Figure size 432x288 with 4 Axes>"
            ]
          },
          "metadata": {
            "tags": []
          }
        },
        {
          "output_type": "display_data",
          "data": {
            "image/png": "[encoded data removed]",
            "text/plain": [
              "<Figure size 432x288 with 4 Axes>"
            ]
          },
          "metadata": {
            "tags": []
          }
        }
      ]
    },
    {
      "cell_type": "markdown",
      "metadata": {
        "id": "p3T5IegWAXPa",
        "colab_type": "text"
      },
      "source": [
        "### Naive method for identifying the AD - Gaussian Distribution plots for each variable"
      ]
    },
    {
      "cell_type": "code",
      "metadata": {
        "id": "IjAqo4GLEX5f",
        "colab_type": "code",
        "colab": {}
      },
      "source": [
        "\n",
        "def kde_scipy(x, x_grid):\n",
        "    \"\"\"Kernel Density Estimation with Scipy\"\"\"\n",
        "    # Note that scipy weights its bandwidth by the covariance of the\n",
        "    # input data.  To make the results comparable to the other methods,\n",
        "    # we divide the bandwidth by the sample standard deviation here.\n",
        "    kde = gaussian_kde(x)\n",
        "    return kde.evaluate(x_grid)"
      ],
      "execution_count": 0,
      "outputs": []
    },
    {
      "cell_type": "markdown",
      "metadata": {
        "id": "7xyELvqYTJRY",
        "colab_type": "text"
      },
      "source": [
        "## Kernal Density Estimation in Python\n",
        "### True_Error_distribution"
      ]
    },
    {
      "cell_type": "code",
      "metadata": {
        "id": "zYJIMUksl76E",
        "colab_type": "code",
        "outputId": "5044aa3f-ee59-44a1-97b9-a07514e32f88",
        "colab": {
          "base_uri": "https://localhost:8080/",
          "height": 1000
        }
      },
      "source": [
        "pltno = 0\n",
        "fig, ax = plt.subplots(2, 2)\n",
        "for i,column in enumerate(sensors_data.columns):\n",
        "  if column!='utime':\n",
        "    \n",
        "    # converts column values to numpy array\n",
        "    x = error_dist[column].values\n",
        "    # The grid we'll use for plotting\n",
        "    x_grid = np.linspace(x.min(), x.max(), 1000)\n",
        "    y = kde_scipy(x,x_grid)\n",
        "    r = int(pltno/2)\n",
        "    c = int(pltno%2)\n",
        "    ax[r, c].plot(x_grid, y, color='blue', alpha=0.5, lw=2,)# in place of colour = 'r--'\n",
        "    ax[r, c].set_title(column, y=1)\n",
        "#     ax[r, c].title.set_position([0.1,1.25])\n",
        "    ax[r, c].set_xlabel('error')\n",
        "    ax[r, c].set_ylabel('pdf')\n",
        "    if pltno == 3:\n",
        "      plt.subplots_adjust(top=0.92, bottom=0.08, left=0.10, right=0.95, hspace=1,\n",
        "                    wspace=0.35)\n",
        "      plt.show()\n",
        "      pltno = 0 \n",
        "      fig, ax = plt.subplots(2, 2)\n",
        "    else:\n",
        "      pltno += 1    "
      ],
      "execution_count": 0,
      "outputs": [
        {
          "output_type": "display_data",
          "data": {
            "image/png": "[encoded data removed]",
            "text/plain": [
              "<Figure size 432x288 with 4 Axes>"
            ]
          },
          "metadata": {
            "tags": []
          }
        },
        {
          "output_type": "display_data",
          "data": {
            "image/png": "[encoded data removed]",
            "text/plain": [
              "<Figure size 432x288 with 4 Axes>"
            ]
          },
          "metadata": {
            "tags": []
          }
        },
        {
          "output_type": "display_data",
          "data": {
            "image/png": "[encoded data removed]",
            "text/plain": [
              "<Figure size 432x288 with 4 Axes>"
            ]
          },
          "metadata": {
            "tags": []
          }
        },
        {
          "output_type": "display_data",
          "data": {
            "image/png": "[encoded data removed]",
            "text/plain": [
              "<Figure size 432x288 with 4 Axes>"
            ]
          },
          "metadata": {
            "tags": []
          }
        },
        {
          "output_type": "display_data",
          "data": {
            "image/png": "[encoded data removed]",
            "text/plain": [
              "<Figure size 432x288 with 4 Axes>"
            ]
          },
          "metadata": {
            "tags": []
          }
        },
        {
          "output_type": "display_data",
          "data": {
            "image/png": "[encoded data removed]",
            "text/plain": [
              "<Figure size 432x288 with 4 Axes>"
            ]
          },
          "metadata": {
            "tags": []
          }
        },
        {
          "output_type": "display_data",
          "data": {
            "image/png": "[encoded data removed]",
            "text/plain": [
              "<Figure size 432x288 with 4 Axes>"
            ]
          },
          "metadata": {
            "tags": []
          }
        }
      ]
    },
    {
      "cell_type": "code",
      "metadata": {
        "id": "hTLfs4hTTLrn",
        "colab_type": "code",
        "outputId": "fffe6069-4272-4cfd-a366-cd67d7ae2ff7",
        "colab": {
          "base_uri": "https://localhost:8080/",
          "height": 1000
        }
      },
      "source": [
        "# # error-dist for each sensor\n",
        "# for i,column in enumerate(sensors_data.columns):\n",
        "#   if column!='utime':\n",
        "#     print(column)\n",
        "#     # converts column values to numpy array\n",
        "#     x = error_dist[column].values\n",
        "#     # The grid we'll use for plotting\n",
        "#     x_grid = np.linspace(x.min(), x.max(), 1000)\n",
        "#     y = kde_scipy(x,x_grid)\n",
        "#     plt.plot(x_grid, y, color='blue', alpha=0.5, lw=3)# in place of colour = 'r--'\n",
        "#     plt.show()    "
      ],
      "execution_count": 0,
      "outputs": [
        {
          "output_type": "stream",
          "text": [
            "ff_museum_c02\n"
          ],
          "name": "stdout"
        },
        {
          "output_type": "display_data",
          "data": {
            "image/png": "[encoded data removed]",
            "text/plain": [
              "<Figure size 432x288 with 1 Axes>"
            ]
          },
          "metadata": {
            "tags": []
          }
        },
        {
          "output_type": "stream",
          "text": [
            "ff_museum_Humidity\n"
          ],
          "name": "stdout"
        },
        {
          "output_type": "display_data",
          "data": {
            "image/png": "[encoded data removed]",
            "text/plain": [
              "<Figure size 432x288 with 1 Axes>"
            ]
          },
          "metadata": {
            "tags": []
          }
        },
        {
          "output_type": "stream",
          "text": [
            "ff_museum_noise\n"
          ],
          "name": "stdout"
        },
        {
          "output_type": "display_data",
          "data": {
            "image/png": "[encoded data removed]",
            "text/plain": [
              "<Figure size 432x288 with 1 Axes>"
            ]
          },
          "metadata": {
            "tags": []
          }
        },
        {
          "output_type": "stream",
          "text": [
            "ff_temparature\n"
          ],
          "name": "stdout"
        },
        {
          "output_type": "display_data",
          "data": {
            "image/png": "[encoded data removed]",
            "text/plain": [
              "<Figure size 432x288 with 1 Axes>"
            ]
          },
          "metadata": {
            "tags": []
          }
        },
        {
          "output_type": "stream",
          "text": [
            "ff_pressure\n"
          ],
          "name": "stdout"
        },
        {
          "output_type": "display_data",
          "data": {
            "image/png": "[encoded data removed]",
            "text/plain": [
              "<Figure size 432x288 with 1 Axes>"
            ]
          },
          "metadata": {
            "tags": []
          }
        },
        {
          "output_type": "stream",
          "text": [
            "sf_humidity\n"
          ],
          "name": "stdout"
        },
        {
          "output_type": "display_data",
          "data": {
            "image/png": "[encoded data removed]",
            "text/plain": [
              "<Figure size 432x288 with 1 Axes>"
            ]
          },
          "metadata": {
            "tags": []
          }
        },
        {
          "output_type": "stream",
          "text": [
            "sf_c02\n"
          ],
          "name": "stdout"
        },
        {
          "output_type": "display_data",
          "data": {
            "image/png": "[encoded data removed]",
            "text/plain": [
              "<Figure size 432x288 with 1 Axes>"
            ]
          },
          "metadata": {
            "tags": []
          }
        },
        {
          "output_type": "stream",
          "text": [
            "ff_outdoor_temp\n"
          ],
          "name": "stdout"
        },
        {
          "output_type": "display_data",
          "data": {
            "image/png": "[encoded data removed]",
            "text/plain": [
              "<Figure size 432x288 with 1 Axes>"
            ]
          },
          "metadata": {
            "tags": []
          }
        },
        {
          "output_type": "stream",
          "text": [
            "ff_outdoor_himidity\n"
          ],
          "name": "stdout"
        },
        {
          "output_type": "display_data",
          "data": {
            "image/png": "[encoded data removed]",
            "text/plain": [
              "<Figure size 432x288 with 1 Axes>"
            ]
          },
          "metadata": {
            "tags": []
          }
        },
        {
          "output_type": "stream",
          "text": [
            "sf_kitchen_noise\n"
          ],
          "name": "stdout"
        },
        {
          "output_type": "display_data",
          "data": {
            "image/png": "[encoded data removed]",
            "text/plain": [
              "<Figure size 432x288 with 1 Axes>"
            ]
          },
          "metadata": {
            "tags": []
          }
        },
        {
          "output_type": "stream",
          "text": [
            "sf_kitchen pressure\n"
          ],
          "name": "stdout"
        },
        {
          "output_type": "display_data",
          "data": {
            "image/png": "[encoded data removed]",
            "text/plain": [
              "<Figure size 432x288 with 1 Axes>"
            ]
          },
          "metadata": {
            "tags": []
          }
        },
        {
          "output_type": "stream",
          "text": [
            "sf_reception_temparature\n"
          ],
          "name": "stdout"
        },
        {
          "output_type": "display_data",
          "data": {
            "image/png": "[encoded data removed]",
            "text/plain": [
              "<Figure size 432x288 with 1 Axes>"
            ]
          },
          "metadata": {
            "tags": []
          }
        },
        {
          "output_type": "stream",
          "text": [
            "sf_reception_humidity\n"
          ],
          "name": "stdout"
        },
        {
          "output_type": "display_data",
          "data": {
            "image/png": "[encoded data removed]",
            "text/plain": [
              "<Figure size 432x288 with 1 Axes>"
            ]
          },
          "metadata": {
            "tags": []
          }
        },
        {
          "output_type": "stream",
          "text": [
            "sf_kitchen_temparature\n"
          ],
          "name": "stdout"
        },
        {
          "output_type": "display_data",
          "data": {
            "image/png": "[encoded data removed]",
            "text/plain": [
              "<Figure size 432x288 with 1 Axes>"
            ]
          },
          "metadata": {
            "tags": []
          }
        },
        {
          "output_type": "stream",
          "text": [
            "gf_hall_temprature\n"
          ],
          "name": "stdout"
        },
        {
          "output_type": "display_data",
          "data": {
            "image/png": "[encoded data removed]",
            "text/plain": [
              "<Figure size 432x288 with 1 Axes>"
            ]
          },
          "metadata": {
            "tags": []
          }
        },
        {
          "output_type": "stream",
          "text": [
            "gf_lab_c02\n"
          ],
          "name": "stdout"
        },
        {
          "output_type": "display_data",
          "data": {
            "image/png": "[encoded data removed]",
            "text/plain": [
              "<Figure size 432x288 with 1 Axes>"
            ]
          },
          "metadata": {
            "tags": []
          }
        },
        {
          "output_type": "stream",
          "text": [
            "gf_lab_pressure\n"
          ],
          "name": "stdout"
        },
        {
          "output_type": "display_data",
          "data": {
            "image/png": "[encoded data removed]",
            "text/plain": [
              "<Figure size 432x288 with 1 Axes>"
            ]
          },
          "metadata": {
            "tags": []
          }
        },
        {
          "output_type": "stream",
          "text": [
            "gf_hall_humidity\n"
          ],
          "name": "stdout"
        },
        {
          "output_type": "display_data",
          "data": {
            "image/png": "[encoded data removed]",
            "text/plain": [
              "<Figure size 432x288 with 1 Axes>"
            ]
          },
          "metadata": {
            "tags": []
          }
        },
        {
          "output_type": "stream",
          "text": [
            "gf_lab_humidity\n"
          ],
          "name": "stdout"
        },
        {
          "output_type": "display_data",
          "data": {
            "image/png": "[encoded data removed]",
            "text/plain": [
              "<Figure size 432x288 with 1 Axes>"
            ]
          },
          "metadata": {
            "tags": []
          }
        },
        {
          "output_type": "stream",
          "text": [
            "gf_lab_noise\n"
          ],
          "name": "stdout"
        },
        {
          "output_type": "display_data",
          "data": {
            "image/png": "[encoded data removed]",
            "text/plain": [
              "<Figure size 432x288 with 1 Axes>"
            ]
          },
          "metadata": {
            "tags": []
          }
        },
        {
          "output_type": "stream",
          "text": [
            "gf_lab_temprature\n"
          ],
          "name": "stdout"
        },
        {
          "output_type": "display_data",
          "data": {
            "image/png": "[encoded data removed]",
            "text/plain": [
              "<Figure size 432x288 with 1 Axes>"
            ]
          },
          "metadata": {
            "tags": []
          }
        },
        {
          "output_type": "stream",
          "text": [
            "sf_kitchen_wifi\n"
          ],
          "name": "stdout"
        },
        {
          "output_type": "display_data",
          "data": {
            "image/png": "[encoded data removed]",
            "text/plain": [
              "<Figure size 432x288 with 1 Axes>"
            ]
          },
          "metadata": {
            "tags": []
          }
        },
        {
          "output_type": "stream",
          "text": [
            "ff_museum_wifi\n"
          ],
          "name": "stdout"
        },
        {
          "output_type": "display_data",
          "data": {
            "image/png": "[encoded data removed]",
            "text/plain": [
              "<Figure size 432x288 with 1 Axes>"
            ]
          },
          "metadata": {
            "tags": []
          }
        },
        {
          "output_type": "stream",
          "text": [
            "gf_lobby_wifi\n"
          ],
          "name": "stdout"
        },
        {
          "output_type": "display_data",
          "data": {
            "image/png": "[encoded data removed]",
            "text/plain": [
              "<Figure size 432x288 with 1 Axes>"
            ]
          },
          "metadata": {
            "tags": []
          }
        }
      ]
    },
    {
      "cell_type": "markdown",
      "metadata": {
        "id": "EJhMWWL77bbE",
        "colab_type": "text"
      },
      "source": [
        "### Constructing the table\n",
        "-------------------------------------------------------------------------------------------------\n",
        "Model# || # Anaomalies || #verified anomalies by atleat2 models (AV2) || AV3 || Model which is mostly verifying(% of confidence) ||\n"
      ]
    },
    {
      "cell_type": "markdown",
      "metadata": {
        "id": "OjKmryPqOqD-",
        "colab_type": "text"
      },
      "source": [
        "### Mean and Standard Deviation of Sensors"
      ]
    },
    {
      "cell_type": "code",
      "metadata": {
        "id": "iinM-VgIMi9-",
        "colab_type": "code",
        "outputId": "88dea0c4-74f9-4cad-be89-dd11c05f93c0",
        "colab": {
          "base_uri": "https://localhost:8080/",
          "height": 55
        }
      },
      "source": [
        "error_dist.keys()"
      ],
      "execution_count": 0,
      "outputs": [
        {
          "output_type": "execute_result",
          "data": {
            "text/plain": [
              "dict_keys(['ff_museum_c02', 'ff_museum_Humidity', 'ff_museum_noise', 'ff_temparature', 'ff_pressure', 'sf_humidity', 'sf_c02', 'ff_outdoor_temp', 'ff_outdoor_himidity', 'sf_kitchen_noise', 'sf_kitchen pressure', 'sf_reception_temparature', 'sf_reception_humidity', 'sf_kitchen_temparature', 'gf_hall_temprature', 'gf_lab_c02', 'gf_lab_pressure', 'gf_hall_humidity', 'gf_lab_humidity', 'gf_lab_noise', 'gf_lab_temprature', 'sf_kitchen_wifi', 'ff_museum_wifi', 'gf_lobby_wifi'])"
            ]
          },
          "metadata": {
            "tags": []
          },
          "execution_count": 14
        }
      ]
    },
    {
      "cell_type": "markdown",
      "metadata": {
        "id": "FbTwOj-BN_mR",
        "colab_type": "text"
      },
      "source": [
        "## Finding the error distrubution parameters - mean and standard dist"
      ]
    },
    {
      "cell_type": "code",
      "metadata": {
        "id": "3VIlsnFs78rw",
        "colab_type": "code",
        "outputId": "c4dc6d57-b57f-4cd2-a479-4220bafc4cb4",
        "colab": {
          "base_uri": "https://localhost:8080/",
          "height": 55
        }
      },
      "source": [
        "alpha = 2\n",
        "anomaly_threshold = dict()\n",
        "sensor_means = dict()\n",
        "sensor_sds =dict()\n",
        "\n",
        "for column in error_dist.keys():\n",
        "    sensor_means[column] = error_dist[column].mean()\n",
        "    sensor_sds[column] = error_dist[column].std()\n",
        "    anomaly_threshold[column] = sensor_means[column] + alpha * sensor_sds[column]\n",
        "print(anomaly_threshold)"
      ],
      "execution_count": 0,
      "outputs": [
        {
          "output_type": "stream",
          "text": [
            "{'ff_museum_c02': 151.10548259781888, 'ff_museum_Humidity': 2.135762211538347, 'ff_museum_noise': 5.204328921750258, 'ff_temparature': 0.9613912615478949, 'ff_pressure': 1.5729497303590283, 'sf_humidity': 2.6543610059504057, 'sf_c02': 365.46393023139757, 'ff_outdoor_temp': 2.4737981857633224, 'ff_outdoor_himidity': 8.68695790555428, 'sf_kitchen_noise': 12.067303992779689, 'sf_kitchen pressure': 438.92143932511664, 'sf_reception_temparature': 0.897277240670678, 'sf_reception_humidity': 1.8916003163713715, 'sf_kitchen_temparature': 1.3656462094231623, 'gf_hall_temprature': 0.9832343700705464, 'gf_lab_c02': 357.86366590262, 'gf_lab_pressure': 1.5889707227284064, 'gf_hall_humidity': 2.6317685563662407, 'gf_lab_humidity': 2.914534383932161, 'gf_lab_noise': 5.606115481663145, 'gf_lab_temprature': 1.664964532489219, 'sf_kitchen_wifi': 31.09978149299127, 'ff_museum_wifi': 51.72650164957359, 'gf_lobby_wifi': 38.068613153171455}\n"
          ],
          "name": "stdout"
        }
      ]
    },
    {
      "cell_type": "markdown",
      "metadata": {
        "id": "CWYBG-uTOg88",
        "colab_type": "text"
      },
      "source": [
        "### Filtering the data using the sensor anomaly Threshold"
      ]
    },
    {
      "cell_type": "markdown",
      "metadata": {
        "id": "iCrtdD2sWit1",
        "colab_type": "text"
      },
      "source": [
        "## Binary Anomaly "
      ]
    },
    {
      "cell_type": "code",
      "metadata": {
        "id": "EP51sw0bGGpO",
        "colab_type": "code",
        "outputId": "99a7d1f5-8ade-435e-fa81-d3a64f7af6ad",
        "colab": {
          "base_uri": "https://localhost:8080/",
          "height": 35
        }
      },
      "source": [
        "# Filtering anomalies based on each sensor threshold\n",
        "\n",
        "anomaly_df = pd.DataFrame(columns=model_error.columns)\n",
        "count = 0\n",
        "\n",
        "for column in model_error.columns:\n",
        "  if column != 'utime':\n",
        "    anomaly_df[column] = (model_error[column]>=anomaly_threshold[column]).astype(int)\n",
        "    \n",
        "anomaly_df['utime'] = model_error['utime']   \n",
        "\n",
        "print(anomaly_df.shape)\n"
      ],
      "execution_count": 0,
      "outputs": [
        {
          "output_type": "stream",
          "text": [
            "(2652, 25)\n"
          ],
          "name": "stdout"
        }
      ]
    },
    {
      "cell_type": "code",
      "metadata": {
        "id": "aPHaqQebKTat",
        "colab_type": "code",
        "outputId": "874758c1-421b-4d1e-87a5-ea4c9d633a62",
        "colab": {
          "base_uri": "https://localhost:8080/",
          "height": 1000
        }
      },
      "source": [
        "anomaly_df.head"
      ],
      "execution_count": 0,
      "outputs": [
        {
          "output_type": "execute_result",
          "data": {
            "text/plain": [
              "<bound method NDFrame.head of       ff_museum_c02  ff_museum_Humidity  ...  gf_lobby_wifi       utime\n",
              "0                 0                   0  ...              0  1902010945\n",
              "1                 0                   0  ...              0  1902011000\n",
              "2                 0                   0  ...              0  1902011015\n",
              "3                 0                   0  ...              0  1902011030\n",
              "4                 0                   0  ...              0  1902011045\n",
              "5                 0                   0  ...              0  1902011100\n",
              "6                 0                   0  ...              0  1902011115\n",
              "7                 0                   0  ...              0  1902011130\n",
              "8                 0                   0  ...              0  1902011145\n",
              "9                 0                   0  ...              0  1902011200\n",
              "10                0                   0  ...              0  1902011215\n",
              "11                0                   0  ...              0  1902011230\n",
              "12                0                   0  ...              0  1902011245\n",
              "13                0                   0  ...              0  1902011300\n",
              "14                0                   0  ...              0  1902011315\n",
              "15                0                   0  ...              0  1902011330\n",
              "16                0                   0  ...              0  1902011345\n",
              "17                0                   0  ...              0  1902011400\n",
              "18                0                   0  ...              0  1902011415\n",
              "19                0                   0  ...              0  1902011430\n",
              "20                0                   0  ...              0  1902011445\n",
              "21                0                   0  ...              0  1902011500\n",
              "22                0                   0  ...              0  1902011515\n",
              "23                0                   0  ...              0  1902011530\n",
              "24                0                   0  ...              0  1902011545\n",
              "25                0                   0  ...              0  1902011600\n",
              "26                0                   0  ...              0  1902011615\n",
              "27                0                   0  ...              0  1902011630\n",
              "28                0                   0  ...              0  1902011645\n",
              "29                0                   0  ...              0  1902011700\n",
              "...             ...                 ...  ...            ...         ...\n",
              "2622              0                   0  ...              0  1904251045\n",
              "2623              0                   0  ...              0  1904251100\n",
              "2624              0                   0  ...              0  1904251115\n",
              "2625              0                   0  ...              0  1904251130\n",
              "2626              0                   0  ...              0  1904251145\n",
              "2627              0                   0  ...              0  1904251200\n",
              "2628              0                   0  ...              0  1904251215\n",
              "2629              0                   0  ...              1  1904251315\n",
              "2630              0                   0  ...              1  1904251330\n",
              "2631              0                   0  ...              0  1904251400\n",
              "2632              0                   0  ...              0  1904251415\n",
              "2633              0                   0  ...              0  1904251430\n",
              "2634              0                   0  ...              0  1904251445\n",
              "2635              0                   0  ...              0  1904251500\n",
              "2636              0                   0  ...              0  1904251515\n",
              "2637              0                   0  ...              0  1904251530\n",
              "2638              0                   0  ...              0  1904251545\n",
              "2639              0                   0  ...              0  1904251600\n",
              "2640              0                   0  ...              0  1904251615\n",
              "2641              0                   0  ...              0  1904251645\n",
              "2642              0                   0  ...              0  1904251700\n",
              "2643              0                   0  ...              0  1904251715\n",
              "2644              0                   0  ...              1  1904251730\n",
              "2645              0                   0  ...              0  1904251745\n",
              "2646              0                   0  ...              0  1904251800\n",
              "2647              0                   0  ...              0  1904251815\n",
              "2648              0                   0  ...              0  1904251830\n",
              "2649              0                   0  ...              0  1904251845\n",
              "2650              0                   0  ...              0  1904251900\n",
              "2651              0                   0  ...              0  1904251915\n",
              "\n",
              "[2652 rows x 25 columns]>"
            ]
          },
          "metadata": {
            "tags": []
          },
          "execution_count": 39
        }
      ]
    },
    {
      "cell_type": "code",
      "metadata": {
        "id": "nyGVa7TcWnCW",
        "colab_type": "code",
        "outputId": "0349102c-1c13-4618-d970-c0c8563be388",
        "colab": {
          "base_uri": "https://localhost:8080/",
          "height": 89
        }
      },
      "source": [
        "# anomaly_df\n",
        "\n",
        "resu = anomaly_df.loc[anomaly_df['utime'] == 1903141430]\n",
        "\n",
        "# anomaly_df.to_csv(\"anomaly_df.csv\")"
      ],
      "execution_count": 0,
      "outputs": [
        {
          "output_type": "stream",
          "text": [
            "Empty DataFrame\n",
            "Columns: [ff_museum_c02, ff_museum_Humidity, ff_museum_noise, ff_temparature, ff_pressure, sf_humidity, sf_c02, ff_outdoor_temp, ff_outdoor_himidity, sf_kitchen_noise, sf_kitchen pressure, sf_reception_temparature, sf_reception_humidity, sf_kitchen_temparature, gf_hall_temprature, gf_lab_c02, gf_lab_pressure, gf_hall_humidity, gf_lab_humidity, gf_lab_noise, gf_lab_temprature, sf_kitchen_wifi, ff_museum_wifi, gf_lobby_wifi, utime]\n",
            "Index: []\n"
          ],
          "name": "stdout"
        }
      ]
    },
    {
      "cell_type": "code",
      "metadata": {
        "id": "DzbxOy9rbrmI",
        "colab_type": "code",
        "colab": {}
      },
      "source": [
        ""
      ],
      "execution_count": 0,
      "outputs": []
    },
    {
      "cell_type": "markdown",
      "metadata": {
        "id": "dm_MrSBG7ihh",
        "colab_type": "text"
      },
      "source": [
        "## Timestamp Vs Anomaly Detection(wrt models)"
      ]
    },
    {
      "cell_type": "code",
      "metadata": {
        "id": "fsxOTP905Aqc",
        "colab_type": "code",
        "outputId": "ab208c25-21db-4b74-c05b-915deb19eb44",
        "colab": {
          "base_uri": "https://localhost:8080/",
          "height": 503
        }
      },
      "source": [
        "if 'time_sum' in anomaly_df:\n",
        "  anomaly_df = anomaly_df.drop(['time_sum'], axis=1) \n",
        "if 'sensor_sum' in anomaly_df.index:\n",
        "  anomaly_df = anomaly_df.drop(['sensor_sum']) \n",
        "\n",
        "resdf = pd.DataFrame()\n",
        "resdf['Sensor Name'] = anomaly_df.columns\n",
        "resdf['Anomaly#1'] = anomaly_df.sum(axis=0).values\n",
        "anomaly_time_sum = anomaly_df.sum(axis=1)\n",
        "\n",
        "resdf['Anomaly#2'] = np.zeros(len(anomaly_df.columns))\n",
        "resdf['Anomaly#3'] = np.zeros(len(anomaly_df.columns))\n",
        "resdf['Anomaly#4'] = np.zeros(len(anomaly_df.columns))\n",
        "resdf['Anomaly#5'] = np.zeros(len(anomaly_df.columns))\n",
        "resdf['Anomaly#6'] = np.zeros(len(anomaly_df.columns))\n",
        "\n",
        "for i, c in enumerate(anomaly_df.columns):\n",
        "  dftemp = anomaly_df[anomaly_df[c] == 1].sum(axis=1)\n",
        "  resdf.loc[i, 'Anomaly#2'] = len(dftemp[dftemp >1])\n",
        "  resdf.loc[i, 'Anomaly#3'] = len(dftemp[dftemp >2])\n",
        "  resdf.loc[i, 'Anomaly#4'] = len(dftemp[dftemp >3])\n",
        "  resdf.loc[i, 'Anomaly#5'] = len(dftemp[dftemp >4])\n",
        "  resdf.loc[i, 'Anomaly#6'] = len(dftemp[dftemp >5])\n",
        "  \n",
        "  \n",
        "print(resdf)"
      ],
      "execution_count": 0,
      "outputs": [
        {
          "output_type": "stream",
          "text": [
            "                 Sensor Name  Anomaly#1  ...  Anomaly#5  Anomaly#6\n",
            "0              ff_museum_c02      134.0  ...       22.0       14.0\n",
            "1         ff_museum_Humidity      136.0  ...       20.0       11.0\n",
            "2            ff_museum_noise       98.0  ...       11.0        4.0\n",
            "3             ff_temparature      147.0  ...       13.0       10.0\n",
            "4                ff_pressure       88.0  ...       17.0       12.0\n",
            "5                sf_humidity      118.0  ...       25.0       17.0\n",
            "6                     sf_c02      135.0  ...       30.0       20.0\n",
            "7            ff_outdoor_temp       99.0  ...       17.0       14.0\n",
            "8        ff_outdoor_himidity      121.0  ...       24.0       16.0\n",
            "9           sf_kitchen_noise      165.0  ...       21.0       13.0\n",
            "10       sf_kitchen pressure      104.0  ...        8.0        3.0\n",
            "11  sf_reception_temparature      154.0  ...       31.0       15.0\n",
            "12     sf_reception_humidity      138.0  ...       34.0       19.0\n",
            "13    sf_kitchen_temparature      128.0  ...       36.0       21.0\n",
            "14        gf_hall_temprature      108.0  ...       24.0       16.0\n",
            "15                gf_lab_c02      101.0  ...       20.0       14.0\n",
            "16           gf_lab_pressure       87.0  ...       16.0       11.0\n",
            "17          gf_hall_humidity      126.0  ...       34.0       19.0\n",
            "18           gf_lab_humidity      156.0  ...       11.0       10.0\n",
            "19              gf_lab_noise      117.0  ...       12.0        7.0\n",
            "20         gf_lab_temprature      130.0  ...       11.0       10.0\n",
            "21           sf_kitchen_wifi      106.0  ...       24.0       16.0\n",
            "22            ff_museum_wifi       72.0  ...       15.0        8.0\n",
            "23             gf_lobby_wifi      113.0  ...       25.0       16.0\n",
            "24                     utime        inf  ...        0.0        0.0\n",
            "\n",
            "[25 rows x 7 columns]\n"
          ],
          "name": "stdout"
        }
      ]
    },
    {
      "cell_type": "code",
      "metadata": {
        "id": "LKF2SzLshF23",
        "colab_type": "code",
        "outputId": "b11984d4-0765-4e3f-b85f-b0b090f52f8b",
        "colab": {
          "base_uri": "https://localhost:8080/",
          "height": 955
        }
      },
      "source": [
        "s1 = resdf[1:25]\n",
        "print(s1)\n",
        "s1.set_index('Sensor Name', inplace=True)\n",
        "s1 = s1.transpose()\n",
        "s1['Sensor Name'] = s1.index\n",
        "print(s1)\n",
        "\n",
        "ax = s1.plot.bar(x = 'Sensor Name', y = 'sf_c02',  rot=90)\n"
      ],
      "execution_count": 0,
      "outputs": [
        {
          "output_type": "stream",
          "text": [
            "                 Sensor Name  Anomaly#1  ...  Anomaly#5  Anomaly#6\n",
            "1         ff_museum_Humidity      136.0  ...       20.0       11.0\n",
            "2            ff_museum_noise       98.0  ...       11.0        4.0\n",
            "3             ff_temparature      147.0  ...       13.0       10.0\n",
            "4                ff_pressure       88.0  ...       17.0       12.0\n",
            "5                sf_humidity      118.0  ...       25.0       17.0\n",
            "6                     sf_c02      135.0  ...       30.0       20.0\n",
            "7            ff_outdoor_temp       99.0  ...       17.0       14.0\n",
            "8        ff_outdoor_himidity      121.0  ...       24.0       16.0\n",
            "9           sf_kitchen_noise      165.0  ...       21.0       13.0\n",
            "10       sf_kitchen pressure      104.0  ...        8.0        3.0\n",
            "11  sf_reception_temparature      154.0  ...       31.0       15.0\n",
            "12     sf_reception_humidity      138.0  ...       34.0       19.0\n",
            "13    sf_kitchen_temparature      128.0  ...       36.0       21.0\n",
            "14        gf_hall_temprature      108.0  ...       24.0       16.0\n",
            "15                gf_lab_c02      101.0  ...       20.0       14.0\n",
            "16           gf_lab_pressure       87.0  ...       16.0       11.0\n",
            "17          gf_hall_humidity      126.0  ...       34.0       19.0\n",
            "18           gf_lab_humidity      156.0  ...       11.0       10.0\n",
            "19              gf_lab_noise      117.0  ...       12.0        7.0\n",
            "20         gf_lab_temprature      130.0  ...       11.0       10.0\n",
            "21           sf_kitchen_wifi      106.0  ...       24.0       16.0\n",
            "22            ff_museum_wifi       72.0  ...       15.0        8.0\n",
            "23             gf_lobby_wifi      113.0  ...       25.0       16.0\n",
            "24                     utime        inf  ...        0.0        0.0\n",
            "\n",
            "[24 rows x 7 columns]\n",
            "Sensor Name  ff_museum_Humidity  ff_museum_noise  ...  utime  Sensor Name\n",
            "Anomaly#1                 136.0             98.0  ...    inf    Anomaly#1\n",
            "Anomaly#2                  76.0             79.0  ...    0.0    Anomaly#2\n",
            "Anomaly#3                  62.0             52.0  ...    0.0    Anomaly#3\n",
            "Anomaly#4                  45.0             26.0  ...    0.0    Anomaly#4\n",
            "Anomaly#5                  20.0             11.0  ...    0.0    Anomaly#5\n",
            "Anomaly#6                  11.0              4.0  ...    0.0    Anomaly#6\n",
            "\n",
            "[6 rows x 25 columns]\n"
          ],
          "name": "stdout"
        },
        {
          "output_type": "display_data",
          "data": {
            "image/png": "[encoded data removed]",
            "text/plain": [
              "<Figure size 432x288 with 1 Axes>"
            ]
          },
          "metadata": {
            "tags": []
          }
        }
      ]
    },
    {
      "cell_type": "code",
      "metadata": {
        "id": "NrnRCeg-_WtW",
        "colab_type": "code",
        "outputId": "f31efac8-4146-4bf2-d88e-d640ed3b37e0",
        "colab": {
          "base_uri": "https://localhost:8080/",
          "height": 69
        }
      },
      "source": [
        "\n",
        "print(resdf.columns)"
      ],
      "execution_count": 0,
      "outputs": [
        {
          "output_type": "stream",
          "text": [
            "Index(['Sensor Name', 'Anomaly#1', 'Anomaly#2', 'Anomaly#3', 'Anomaly#4',\n",
            "       'Anomaly#5', 'Anomaly#6'],\n",
            "      dtype='object')\n"
          ],
          "name": "stdout"
        }
      ]
    },
    {
      "cell_type": "code",
      "metadata": {
        "id": "iccKar65_Wor",
        "colab_type": "code",
        "colab": {}
      },
      "source": [
        ""
      ],
      "execution_count": 0,
      "outputs": []
    },
    {
      "cell_type": "code",
      "metadata": {
        "id": "enRfMuGlahqy",
        "colab_type": "code",
        "colab": {}
      },
      "source": [
        "## utime to timepstamp mapping\n",
        "def get_timestamp(t):  \n",
        "  ind = Data[Data['utime']==t].index.tolist()\n",
        "  return Data.iloc[ind]['time'].tolist()[0]\n"
      ],
      "execution_count": 0,
      "outputs": []
    },
    {
      "cell_type": "code",
      "metadata": {
        "id": "BXXfpn0VnBxm",
        "colab_type": "code",
        "outputId": "bf6356a7-69eb-4353-f6ef-a6d2af4b87d9",
        "colab": {
          "base_uri": "https://localhost:8080/",
          "height": 1000
        }
      },
      "source": [
        "ALERT = anomaly_df[anomaly_df.sum(axis =1)>5]\n",
        "ALERT = ALERT[['utime']]\n",
        "# ALERT\n",
        "\n",
        "modDfObj = ALERT['utime'].apply(lambda t : get_timestamp(t) )\n",
        "modDfObj=modDfObj.reset_index()\n",
        "modDfObj.drop(['index'],axis=1)"
      ],
      "execution_count": 0,
      "outputs": [
        {
          "output_type": "execute_result",
          "data": {
            "text/html": [
              "<div>\n",
              "<style scoped>\n",
              "    .dataframe tbody tr th:only-of-type {\n",
              "        vertical-align: middle;\n",
              "    }\n",
              "\n",
              "    .dataframe tbody tr th {\n",
              "        vertical-align: top;\n",
              "    }\n",
              "\n",
              "    .dataframe thead th {\n",
              "        text-align: right;\n",
              "    }\n",
              "</style>\n",
              "<table border=\"1\" class=\"dataframe\">\n",
              "  <thead>\n",
              "    <tr style=\"text-align: right;\">\n",
              "      <th></th>\n",
              "      <th>utime</th>\n",
              "    </tr>\n",
              "  </thead>\n",
              "  <tbody>\n",
              "    <tr>\n",
              "      <th>0</th>\n",
              "      <td>2019-02-04 12:45:00</td>\n",
              "    </tr>\n",
              "    <tr>\n",
              "      <th>1</th>\n",
              "      <td>2019-02-04 13:15:00</td>\n",
              "    </tr>\n",
              "    <tr>\n",
              "      <th>2</th>\n",
              "      <td>2019-02-04 13:30:00</td>\n",
              "    </tr>\n",
              "    <tr>\n",
              "      <th>3</th>\n",
              "      <td>2019-02-04 14:00:00</td>\n",
              "    </tr>\n",
              "    <tr>\n",
              "      <th>4</th>\n",
              "      <td>2019-02-04 14:15:00</td>\n",
              "    </tr>\n",
              "    <tr>\n",
              "      <th>5</th>\n",
              "      <td>2019-02-04 14:45:00</td>\n",
              "    </tr>\n",
              "    <tr>\n",
              "      <th>6</th>\n",
              "      <td>2019-02-04 15:15:00</td>\n",
              "    </tr>\n",
              "    <tr>\n",
              "      <th>7</th>\n",
              "      <td>2019-02-05 10:45:00</td>\n",
              "    </tr>\n",
              "    <tr>\n",
              "      <th>8</th>\n",
              "      <td>2019-02-05 11:00:00</td>\n",
              "    </tr>\n",
              "    <tr>\n",
              "      <th>9</th>\n",
              "      <td>2019-02-05 11:15:00</td>\n",
              "    </tr>\n",
              "    <tr>\n",
              "      <th>10</th>\n",
              "      <td>2019-02-07 13:45:00</td>\n",
              "    </tr>\n",
              "    <tr>\n",
              "      <th>11</th>\n",
              "      <td>2019-02-10 15:15:00</td>\n",
              "    </tr>\n",
              "    <tr>\n",
              "      <th>12</th>\n",
              "      <td>2019-02-11 21:45:00</td>\n",
              "    </tr>\n",
              "    <tr>\n",
              "      <th>13</th>\n",
              "      <td>2019-02-14 13:00:00</td>\n",
              "    </tr>\n",
              "    <tr>\n",
              "      <th>14</th>\n",
              "      <td>2019-02-14 13:15:00</td>\n",
              "    </tr>\n",
              "    <tr>\n",
              "      <th>15</th>\n",
              "      <td>2019-03-01 11:30:00</td>\n",
              "    </tr>\n",
              "    <tr>\n",
              "      <th>16</th>\n",
              "      <td>2019-03-01 14:00:00</td>\n",
              "    </tr>\n",
              "    <tr>\n",
              "      <th>17</th>\n",
              "      <td>2019-03-07 13:45:00</td>\n",
              "    </tr>\n",
              "    <tr>\n",
              "      <th>18</th>\n",
              "      <td>2019-03-07 14:00:00</td>\n",
              "    </tr>\n",
              "    <tr>\n",
              "      <th>19</th>\n",
              "      <td>2019-03-07 14:45:00</td>\n",
              "    </tr>\n",
              "    <tr>\n",
              "      <th>20</th>\n",
              "      <td>2019-03-07 15:00:00</td>\n",
              "    </tr>\n",
              "    <tr>\n",
              "      <th>21</th>\n",
              "      <td>2019-03-07 15:15:00</td>\n",
              "    </tr>\n",
              "    <tr>\n",
              "      <th>22</th>\n",
              "      <td>2019-03-11 13:15:00</td>\n",
              "    </tr>\n",
              "    <tr>\n",
              "      <th>23</th>\n",
              "      <td>2019-03-11 13:45:00</td>\n",
              "    </tr>\n",
              "    <tr>\n",
              "      <th>24</th>\n",
              "      <td>2019-03-19 09:30:00</td>\n",
              "    </tr>\n",
              "    <tr>\n",
              "      <th>25</th>\n",
              "      <td>2019-03-19 09:45:00</td>\n",
              "    </tr>\n",
              "    <tr>\n",
              "      <th>26</th>\n",
              "      <td>2019-03-19 10:00:00</td>\n",
              "    </tr>\n",
              "    <tr>\n",
              "      <th>27</th>\n",
              "      <td>2019-03-19 10:30:00</td>\n",
              "    </tr>\n",
              "    <tr>\n",
              "      <th>28</th>\n",
              "      <td>2019-03-19 10:45:00</td>\n",
              "    </tr>\n",
              "    <tr>\n",
              "      <th>29</th>\n",
              "      <td>2019-03-19 13:30:00</td>\n",
              "    </tr>\n",
              "    <tr>\n",
              "      <th>30</th>\n",
              "      <td>2019-03-19 14:15:00</td>\n",
              "    </tr>\n",
              "    <tr>\n",
              "      <th>31</th>\n",
              "      <td>2019-03-22 11:30:00</td>\n",
              "    </tr>\n",
              "    <tr>\n",
              "      <th>32</th>\n",
              "      <td>2019-03-22 14:00:00</td>\n",
              "    </tr>\n",
              "    <tr>\n",
              "      <th>33</th>\n",
              "      <td>2019-03-22 14:30:00</td>\n",
              "    </tr>\n",
              "    <tr>\n",
              "      <th>34</th>\n",
              "      <td>2019-03-22 14:45:00</td>\n",
              "    </tr>\n",
              "    <tr>\n",
              "      <th>35</th>\n",
              "      <td>2019-03-26 14:45:00</td>\n",
              "    </tr>\n",
              "    <tr>\n",
              "      <th>36</th>\n",
              "      <td>2019-03-26 15:30:00</td>\n",
              "    </tr>\n",
              "    <tr>\n",
              "      <th>37</th>\n",
              "      <td>2019-04-10 06:00:00</td>\n",
              "    </tr>\n",
              "    <tr>\n",
              "      <th>38</th>\n",
              "      <td>2019-04-10 06:15:00</td>\n",
              "    </tr>\n",
              "    <tr>\n",
              "      <th>39</th>\n",
              "      <td>2019-04-10 06:30:00</td>\n",
              "    </tr>\n",
              "    <tr>\n",
              "      <th>40</th>\n",
              "      <td>2019-04-10 06:45:00</td>\n",
              "    </tr>\n",
              "    <tr>\n",
              "      <th>41</th>\n",
              "      <td>2019-04-10 09:45:00</td>\n",
              "    </tr>\n",
              "    <tr>\n",
              "      <th>42</th>\n",
              "      <td>2019-04-10 14:00:00</td>\n",
              "    </tr>\n",
              "    <tr>\n",
              "      <th>43</th>\n",
              "      <td>2019-04-24 12:30:00</td>\n",
              "    </tr>\n",
              "    <tr>\n",
              "      <th>44</th>\n",
              "      <td>2019-04-24 13:00:00</td>\n",
              "    </tr>\n",
              "    <tr>\n",
              "      <th>45</th>\n",
              "      <td>2019-04-24 13:15:00</td>\n",
              "    </tr>\n",
              "    <tr>\n",
              "      <th>46</th>\n",
              "      <td>2019-04-24 13:30:00</td>\n",
              "    </tr>\n",
              "    <tr>\n",
              "      <th>47</th>\n",
              "      <td>2019-04-25 13:30:00</td>\n",
              "    </tr>\n",
              "  </tbody>\n",
              "</table>\n",
              "</div>"
            ],
            "text/plain": [
              "                 utime\n",
              "0  2019-02-04 12:45:00\n",
              "1  2019-02-04 13:15:00\n",
              "2  2019-02-04 13:30:00\n",
              "3  2019-02-04 14:00:00\n",
              "4  2019-02-04 14:15:00\n",
              "5  2019-02-04 14:45:00\n",
              "6  2019-02-04 15:15:00\n",
              "7  2019-02-05 10:45:00\n",
              "8  2019-02-05 11:00:00\n",
              "9  2019-02-05 11:15:00\n",
              "10 2019-02-07 13:45:00\n",
              "11 2019-02-10 15:15:00\n",
              "12 2019-02-11 21:45:00\n",
              "13 2019-02-14 13:00:00\n",
              "14 2019-02-14 13:15:00\n",
              "15 2019-03-01 11:30:00\n",
              "16 2019-03-01 14:00:00\n",
              "17 2019-03-07 13:45:00\n",
              "18 2019-03-07 14:00:00\n",
              "19 2019-03-07 14:45:00\n",
              "20 2019-03-07 15:00:00\n",
              "21 2019-03-07 15:15:00\n",
              "22 2019-03-11 13:15:00\n",
              "23 2019-03-11 13:45:00\n",
              "24 2019-03-19 09:30:00\n",
              "25 2019-03-19 09:45:00\n",
              "26 2019-03-19 10:00:00\n",
              "27 2019-03-19 10:30:00\n",
              "28 2019-03-19 10:45:00\n",
              "29 2019-03-19 13:30:00\n",
              "30 2019-03-19 14:15:00\n",
              "31 2019-03-22 11:30:00\n",
              "32 2019-03-22 14:00:00\n",
              "33 2019-03-22 14:30:00\n",
              "34 2019-03-22 14:45:00\n",
              "35 2019-03-26 14:45:00\n",
              "36 2019-03-26 15:30:00\n",
              "37 2019-04-10 06:00:00\n",
              "38 2019-04-10 06:15:00\n",
              "39 2019-04-10 06:30:00\n",
              "40 2019-04-10 06:45:00\n",
              "41 2019-04-10 09:45:00\n",
              "42 2019-04-10 14:00:00\n",
              "43 2019-04-24 12:30:00\n",
              "44 2019-04-24 13:00:00\n",
              "45 2019-04-24 13:15:00\n",
              "46 2019-04-24 13:30:00\n",
              "47 2019-04-25 13:30:00"
            ]
          },
          "metadata": {
            "tags": []
          },
          "execution_count": 19
        }
      ]
    },
    {
      "cell_type": "code",
      "metadata": {
        "id": "c824O87gvwSV",
        "colab_type": "code",
        "colab": {}
      },
      "source": [
        "# Observe the corelation among the variables - Pearson’s Correlation Coefficient\n",
        "# (“Correlation does not imply causation”)\n",
        "# gf humidity 92.5 18\n",
        "# import pandas as pd\n",
        "# import numpy as np\n",
        "\n",
        "# corr = new_data.corr(method='pearson')\n",
        "# corr.style.background_gradient(cmap='coolwarm').set_precision(2)\n",
        "# corr.to_csv('corelation.csv')\n",
        "\n",
        "# Floor wise corelation\n",
        "# gf_sensors = []\n",
        "# ff_sensors = []\n",
        "# sf_sensors = []\n",
        "\n",
        "# for column in Data.columns:\n",
        "#   if (\"ground\" in column or \"Ground\" in column):\n",
        "#     gf_sensors.append(column)\n",
        "#   elif \"1st\" in column:\n",
        "#     ff_sensors.append(column)\n",
        "#   elif \"2nd\" in column:\n",
        "#     sf_sensors.append(column)\n",
        "# Floor wise corealtion - plots\n",
        "\n",
        "# print(len(gf_sensors),len(ff_sensors),len(sf_sensors))\n",
        "# df_gf = Data[gf_sensors]\n",
        "# df_ff = Data[ff_sensors]\n",
        "# df_sf = Data[sf_sensors]\n",
        "\n",
        "# # plot floor wise - 8 sensors data\n",
        "\n",
        "# print(df_gf.shape)\n",
        "# df_gf = df_gf.join(Data['utime'])\n",
        "# df_ff = df_ff.join(Data['utime'])\n",
        "# df_sf = df_sf.join(Data['utime'])\n",
        "\n",
        "# print(df_gf.shape)\n",
        "\n",
        "# plot floor wise environment variables\n",
        "# for column in df_gf.columns:\n",
        "#   if column != 'utime':\n",
        "#     print(column)\n",
        "#     time_x = df_gf['utime']\n",
        "#     y = df_gf[column] \n",
        "#     X = df_gf.drop(column,axis=1)\n",
        "#     ## fit a model\n",
        "#     lm = linear_model.LinearRegression()\n",
        "#     model = lm.fit(X, y)\n",
        "#     predictions = lm.predict(X)\n",
        "#     print(predictions[0:5])\n",
        "#     score = model.score(X, y)\n",
        "#     print('Score', model.score(X, y))\n",
        "#     error = abs(y - predictions)\n",
        "#     data = [df_gf['utime'], df_gf[column], predictions, error]\n",
        "#     df = pd.DataFrame(df_gf, columns= ['Date','Actual','Predicted','error'])\n",
        "#     plt.plot(time_x,error,color = 'y')\n",
        "#     plt.xlabel('Time')\n",
        "#     plt.ylabel('error_gf')\n",
        "#     plt.show()\n",
        "#     plt.savefig(column + '.png')\n",
        "\n",
        "  \n"
      ],
      "execution_count": 0,
      "outputs": []
    },
    {
      "cell_type": "code",
      "metadata": {
        "id": "MFIZuyr6jT6u",
        "colab_type": "code",
        "colab": {}
      },
      "source": [
        ""
      ],
      "execution_count": 0,
      "outputs": []
    }
  ]
}